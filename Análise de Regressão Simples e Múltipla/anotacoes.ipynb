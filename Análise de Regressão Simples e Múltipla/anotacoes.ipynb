{
 "cells": [
  {
   "cell_type": "markdown",
   "metadata": {},
   "source": [
    "# **Modelos de Regressão**\n",
    "modelos lineares generalizados (GLM)"
   ]
  },
  {
   "cell_type": "markdown",
   "metadata": {},
   "source": [
    "### **Y = f(x):**"
   ]
  },
  {
   "cell_type": "markdown",
   "metadata": {},
   "source": [
    "Y = a + bX + u"
   ]
  },
  {
   "cell_type": "markdown",
   "metadata": {},
   "source": [
    "### **R²:**"
   ]
  },
  {
   "cell_type": "markdown",
   "metadata": {},
   "source": [
    "Coeficiente de ajuste do modelo.\n",
    "Mede a capacidade preditiva do modelo.\n",
    "Varia de 0 a 1."
   ]
  },
  {
   "cell_type": "markdown",
   "metadata": {},
   "source": [
    "### **Critérios:**"
   ]
  },
  {
   "cell_type": "markdown",
   "metadata": {},
   "source": [
    "Soma dos erros igual a zero.\n",
    "Soma dos erros ao quadrado a mínima possível."
   ]
  },
  {
   "cell_type": "markdown",
   "metadata": {},
   "source": [
    "### **Significância Estatística do Modelo:**"
   ]
  },
  {
   "cell_type": "markdown",
   "metadata": {},
   "source": [
    "**Teste F**\n",
    "\n",
    "Indica se pelo menos um dos b's é estatisticamente significante para explicar o comportamento de Y.\n",
    "\n",
    "Busca-se rejeitar H0."
   ]
  },
  {
   "cell_type": "markdown",
   "metadata": {},
   "source": [
    "### **Significância Estatistica dos Parâmetros do Modelo:**"
   ]
  },
  {
   "cell_type": "markdown",
   "metadata": {},
   "source": [
    "**Teste T**\n",
    "\n",
    "Indica se, individualmente, os parâmetros são estatisticamente diferentes de 0.\n",
    "\n",
    "Quando o a não se mostrar estatisticamente significante, isso indica um problema de tamanho de amostra e não podemos iguali-lo a 0."
   ]
  },
  {
   "cell_type": "markdown",
   "metadata": {},
   "source": [
    "# **Regressão Múltipla**\n",
    "Mais de uma variável explicativa no modelo."
   ]
  },
  {
   "cell_type": "markdown",
   "metadata": {},
   "source": [
    "### **Y = f(x):**"
   ]
  },
  {
   "cell_type": "markdown",
   "metadata": {},
   "source": [
    "Y = a + b1X1 + b2X2 + bkXk + u"
   ]
  },
  {
   "cell_type": "markdown",
   "metadata": {},
   "source": [
    "### **R²ajust.:**"
   ]
  },
  {
   "cell_type": "markdown",
   "metadata": {},
   "source": [
    "Usado apenas para comparar modelos com quantidades distintas de parâmetros ou amostra."
   ]
  },
  {
   "cell_type": "markdown",
   "metadata": {},
   "source": [
    "### **Variáveis Dummy:**"
   ]
  },
  {
   "cell_type": "markdown",
   "metadata": {},
   "source": [
    "Ajuste de variáveis qualitativas para modelos de regressão.\n",
    "\n",
    "Método One Hot Encoding do SKLearn."
   ]
  },
  {
   "cell_type": "markdown",
   "metadata": {},
   "source": [
    "### Modelos Não Lineares\n",
    "Lowess (Locally Weighted Scatterplot Smoothing)"
   ]
  },
  {
   "cell_type": "markdown",
   "metadata": {},
   "source": [
    "### **Teste de Shapiro-Francia:**"
   ]
  },
  {
   "cell_type": "markdown",
   "metadata": {},
   "source": [
    "Teste de verificação da aderência dos resíduos à normalidade.\n",
    "\n",
    "Para termos fidedignidade nos intervalos de confiança para fins preditivos é preciso que os resíduos apresentem aderância à nornalidade.\n",
    "\n",
    "Histograma das diferenças entre os valores observados e os valores se distribuição normal. Para ser aderente à normalidade, o p-value deve ser estatisticamente 0 (não rejeitar H0)."
   ]
  },
  {
   "cell_type": "markdown",
   "metadata": {},
   "source": [
    "### **Transformação de Box-Cox:**"
   ]
  },
  {
   "cell_type": "markdown",
   "metadata": {},
   "source": [
    "Busca maximizar a aderência da distribuição da variável Y à normalidade (?).\n",
    "\n",
    "Busca a melhor forma funcional da Y para garantir que os termos de erro gerados a posteriore sejam aderentes à normalidade."
   ]
  },
  {
   "cell_type": "markdown",
   "metadata": {},
   "source": [
    "### **Razões para variáveis não entrarem num modelo final:**"
   ]
  },
  {
   "cell_type": "markdown",
   "metadata": {},
   "source": [
    "1. A variável sozinha não é explicativa.\n",
    "2. A variável que sozinha é explicativa, nas demais não é explicativa (multicolinearidade).\n",
    "3. A especificação/forma funcional é inadequada para os dados (linear/não linear/etc)."
   ]
  },
  {
   "cell_type": "markdown",
   "metadata": {},
   "source": [
    "### **Procedimento Stepwise**"
   ]
  },
  {
   "cell_type": "markdown",
   "metadata": {},
   "source": [
    "Iterativamente testa combinações entre variáveis retirando as estatisticamente significante para ter ao final um modelo apenas com variáveis estatisticamente significantes.\n",
    "\n",
    "Não tem capacidade de retirar o alpha do modelo."
   ]
  },
  {
   "cell_type": "markdown",
   "metadata": {},
   "source": [
    "## **Diagnóstico de Multicolinearidade**"
   ]
  },
  {
   "cell_type": "markdown",
   "metadata": {},
   "source": [
    "### **Multicolinearidade:**"
   ]
  },
  {
   "cell_type": "markdown",
   "metadata": {},
   "source": [
    "Ocorre quando duas ou mais variáveis tem alta correlação entre sí.\n",
    "\n",
    "Pode causar distorção dos sinais dos parâmetros e erros de predição."
   ]
  },
  {
   "cell_type": "markdown",
   "metadata": {},
   "source": [
    "### **Como detectar:**"
   ]
  },
  {
   "cell_type": "markdown",
   "metadata": {},
   "source": [
    "Sinais inesperados dos coeficientes (?).\n",
    "\n",
    "Testes t não significantes e teste F significante."
   ]
  },
  {
   "cell_type": "markdown",
   "metadata": {},
   "source": [
    "### **O que causa Multicolinearidade:**"
   ]
  },
  {
   "cell_type": "markdown",
   "metadata": {},
   "source": [
    "Existência de variáveis que apresentam a mesma tendência durante alguns períodos, em decorrência da seleção de uma amostra que inclua apenas observações referentes a estes períodos.\n",
    "\n",
    "Utilização de amostras com reduzido número de observações."
   ]
  },
  {
   "cell_type": "markdown",
   "metadata": {},
   "source": [
    "### **Diagnóstico de Heterocedasticidade**"
   ]
  },
  {
   "cell_type": "markdown",
   "metadata": {},
   "source": [
    "Indica se existe omissão de variáveis relevantes no modelo final."
   ]
  },
  {
   "cell_type": "markdown",
   "metadata": {},
   "source": [
    "## **Heterocedasticidade:**\n",
    "Variancia não constante dos termos de erro."
   ]
  },
  {
   "cell_type": "markdown",
   "metadata": {},
   "source": [
    "Investiga-se se a variável X tem correlação com os termos de erro.\n",
    "\n",
    "Quando existe tal correlação, significa que os termos de erro também se correlacionam com Y.\n",
    "\n",
    "Como os termos de erro representam variáveis omitidas, significa que há pelo menos uma variável relavante que está sendo omitida.\n",
    "\n",
    "**Se houver correlação entre Y e U, é preciso buscar novas variáveis para explicar o modelo.**"
   ]
  }
 ],
 "metadata": {
  "language_info": {
   "name": "python"
  }
 },
 "nbformat": 4,
 "nbformat_minor": 2
}
