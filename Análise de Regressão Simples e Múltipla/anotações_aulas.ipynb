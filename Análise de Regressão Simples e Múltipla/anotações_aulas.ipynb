{
 "cells": [
  {
   "cell_type": "markdown",
   "metadata": {},
   "source": [
    "[Francis Galton](https://pt.wikipedia.org/wiki/Francis_Galton)\n",
    "\n",
    "[Karl Pearson](https://pt.wikipedia.org/wiki/Karl_Pearson)\n",
    "\n",
    "[George Waddel Snedecor](https://pt.wikipedia.org/wiki/George_Waddel_Snedecor)\n",
    "\n",
    "[Ronald Fisher](https://pt.wikipedia.org/wiki/Ronald_Fisher)\n",
    "\n",
    "[William Sealy Gosset](https://pt.wikipedia.org/wiki/William_Sealy_Gosset)\n",
    "\n"
   ]
  }
 ],
 "metadata": {
  "language_info": {
   "name": "python"
  }
 },
 "nbformat": 4,
 "nbformat_minor": 2
}
