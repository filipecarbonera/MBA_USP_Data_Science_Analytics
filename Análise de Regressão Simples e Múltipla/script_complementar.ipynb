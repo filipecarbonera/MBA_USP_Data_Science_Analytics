{
 "cells": [
  {
   "cell_type": "code",
   "execution_count": null,
   "metadata": {},
   "outputs": [],
   "source": [
    "modelo.params\n",
    "modelo.rsquared"
   ]
  },
  {
   "cell_type": "code",
   "execution_count": 1,
   "metadata": {},
   "outputs": [
    {
     "ename": "NameError",
     "evalue": "name 'modelo' is not defined",
     "output_type": "error",
     "traceback": [
      "\u001b[0;31m---------------------------------------------------------------------------\u001b[0m",
      "\u001b[0;31mNameError\u001b[0m                                 Traceback (most recent call last)",
      "Cell \u001b[0;32mIn[1], line 2\u001b[0m\n\u001b[1;32m      1\u001b[0m \u001b[38;5;66;03m# Somatória dos quadrados do modelo (SQM).\u001b[39;00m\n\u001b[0;32m----> 2\u001b[0m \u001b[38;5;28mprint\u001b[39m(\u001b[43mmodelo\u001b[49m\u001b[38;5;241m.\u001b[39mess)\n\u001b[1;32m      4\u001b[0m \u001b[38;5;66;03m# Somatória dos erros ao quadrado (SQErro).\u001b[39;00m\n\u001b[1;32m      5\u001b[0m \u001b[38;5;28mprint\u001b[39m(modelo\u001b[38;5;241m.\u001b[39mssr)\n",
      "\u001b[0;31mNameError\u001b[0m: name 'modelo' is not defined"
     ]
    }
   ],
   "source": [
    "# Somatória dos quadrados do modelo (SQM).\n",
    "print(modelo.ess)\n",
    "\n",
    "# Somatória dos erros ao quadrado (SQErro).\n",
    "print(modelo.ssr)"
   ]
  },
  {
   "cell_type": "code",
   "execution_count": 2,
   "metadata": {},
   "outputs": [
    {
     "ename": "NameError",
     "evalue": "name 'modelo' is not defined",
     "output_type": "error",
     "traceback": [
      "\u001b[0;31m---------------------------------------------------------------------------\u001b[0m",
      "\u001b[0;31mNameError\u001b[0m                                 Traceback (most recent call last)",
      "Cell \u001b[0;32mIn[2], line 1\u001b[0m\n\u001b[0;32m----> 1\u001b[0m n \u001b[38;5;241m=\u001b[39m \u001b[43mmodelo\u001b[49m\u001b[38;5;241m.\u001b[39mnobs\n\u001b[1;32m      2\u001b[0m n\n",
      "\u001b[0;31mNameError\u001b[0m: name 'modelo' is not defined"
     ]
    }
   ],
   "source": [
    "n = modelo.nobs\n",
    "n"
   ]
  },
  {
   "cell_type": "code",
   "execution_count": 3,
   "metadata": {},
   "outputs": [
    {
     "ename": "NameError",
     "evalue": "name 'modelo' is not defined",
     "output_type": "error",
     "traceback": [
      "\u001b[0;31m---------------------------------------------------------------------------\u001b[0m",
      "\u001b[0;31mNameError\u001b[0m                                 Traceback (most recent call last)",
      "Cell \u001b[0;32mIn[3], line 1\u001b[0m\n\u001b[0;32m----> 1\u001b[0m df_modelo \u001b[38;5;241m=\u001b[39m \u001b[43mmodelo\u001b[49m\u001b[38;5;241m.\u001b[39mdf_model\n\u001b[1;32m      2\u001b[0m df_modelo\n",
      "\u001b[0;31mNameError\u001b[0m: name 'modelo' is not defined"
     ]
    }
   ],
   "source": [
    "df_modelo = modelo.df_model\n",
    "df_modelo"
   ]
  },
  {
   "cell_type": "code",
   "execution_count": null,
   "metadata": {},
   "outputs": [],
   "source": [
    "df_residuos = modelo.df_resid\n",
    "df_residuos"
   ]
  },
  {
   "cell_type": "code",
   "execution_count": null,
   "metadata": {},
   "outputs": [],
   "source": [
    "# Cálculo da estatística F de Fisher/Snedecor\n",
    "F = ((modelo.ess)/df_modelo)/((modelo.ssr)/df_residuos)\n",
    "F"
   ]
  },
  {
   "cell_type": "code",
   "execution_count": null,
   "metadata": {},
   "outputs": [],
   "source": [
    "# ANOVA (Analysis of Variance)\n",
    "from statsmodels.stats.anova import anova_lm\n",
    "anova_lm(modelo)\n",
    "\n",
    "anova_lm(modelo).F.iloc[0]"
   ]
  },
  {
   "cell_type": "code",
   "execution_count": null,
   "metadata": {},
   "outputs": [],
   "source": [
    "# Definição do p-value associado ao F calculado\n",
    "from scipy.stats import f\n",
    "\n",
    "1 - f.cdf(F, df_modelo, df_residuos)\n",
    "\n",
    "# Portanto, HÁ MODELO!"
   ]
  },
  {
   "cell_type": "code",
   "execution_count": null,
   "metadata": {},
   "outputs": [],
   "source": [
    "# F Hipotético\n",
    "df1 = 10\n",
    "df2 = 200\n",
    "\n",
    "f_values = np.random.f(df1, df2, 100000)\n",
    "\n",
    "plt.hist(f_values, bins=100, edgecolor='black')\n",
    "plt.hist(f_values, bins=100, color='lightgrey')"
   ]
  },
  {
   "cell_type": "code",
   "execution_count": null,
   "metadata": {},
   "outputs": [],
   "source": [
    "# Voltando ao nosso modelo\n",
    "# Cálculo do F crítico\n",
    "\n",
    "f.ppf(0.95, df_modelo, df_residuos)"
   ]
  },
  {
   "cell_type": "code",
   "execution_count": null,
   "metadata": {},
   "outputs": [],
   "source": [
    "# Distribuição t de Student\n",
    "# Hipotética\n",
    "\n",
    "df = 40\n",
    "t_values = np.random.standard_t(df, 100000)\n",
    "\n",
    "plt.hist(t_values, bins=100, edgecolor='black')\n",
    "plt.hist(t_values, bins=100, color='lightgrey')"
   ]
  },
  {
   "cell_type": "code",
   "execution_count": null,
   "metadata": {},
   "outputs": [],
   "source": [
    "# Cálculo da estatística t do beta da variável 'distancia' para o nosso exemplo\n",
    "# t é a raiz quadrada de F (regressão simples)\n",
    "\n",
    "t_estat = np.sqrt(F)\n",
    "t_estat\n",
    "\n",
    "# Cálculo do p-value da estatística t\n",
    "from scipy.stats import t\n",
    "\n",
    "t.sf(t_estat, df_residuos)*2"
   ]
  },
  {
   "cell_type": "code",
   "execution_count": null,
   "metadata": {},
   "outputs": [],
   "source": [
    "# Gráfico de distribuições t hipotéticas\n",
    "\n",
    "x = np.arange(-4,4,0.0001)\n",
    "\n",
    "plt.plot(x,t.pdf(x,2), label='df=2', color='yellow')\n",
    "plt.plot(x,t.pdf(x,8), label='df=8', color='green')\n",
    "plt.plot(x,t.pdf(x,20), label='df=20', color='darkorchid')\n",
    "plt.legend()"
   ]
  },
  {
   "cell_type": "code",
   "execution_count": null,
   "metadata": {},
   "outputs": [],
   "source": [
    "#%% Importção para a geração da figura com imagem\n",
    "from PIL import Image"
   ]
  },
  {
   "cell_type": "code",
   "execution_count": null,
   "metadata": {},
   "outputs": [],
   "source": [
    "# EXEMPLO 3:\n",
    "df_corrupcao.groupby('regiao')['cpi'].mean().reset_index()\n",
    "\n",
    "#%%\n",
    "# Mudando a categoria de referência\n",
    "\n",
    "df_corrupcao_dummies = pd.get_dummies(df_corrupcao, columns=['regiao'],\n",
    "                                      dtype=int,\n",
    "                                      drop_first=False) # n dummies\n",
    "\n",
    "df_corrupcao_dummies"
   ]
  },
  {
   "cell_type": "code",
   "execution_count": null,
   "metadata": {},
   "outputs": [],
   "source": [
    "# Categoria de referência = Oceania\n",
    "\n",
    "# Definição da fórmula utilizada no modelo\n",
    "lista_colunas = list(df_corrupcao_dummies.drop(columns=['cpi','pais',\n",
    "                                                        'regiao_numerico',\n",
    "                                                        'regiao_Oceania']).columns)\n",
    "formula_dummies_modelo = ' + '.join(lista_colunas)\n",
    "formula_dummies_modelo = \"cpi ~ \" + formula_dummies_modelo\n",
    "print(\"Fórmula utilizada: \",formula_dummies_modelo)"
   ]
  },
  {
   "cell_type": "code",
   "execution_count": null,
   "metadata": {},
   "outputs": [],
   "source": [
    "# Estimação\n",
    "modelo_corrupcao_dummies = sm.OLS.from_formula(formula_dummies_modelo,\n",
    "                                               df_corrupcao_dummies).fit()\n",
    "\n",
    "# Parâmetros do 'modelo_corrupcao_dummies'\n",
    "modelo_corrupcao_dummies.summary()"
   ]
  }
 ],
 "metadata": {
  "kernelspec": {
   "display_name": "Python 3",
   "language": "python",
   "name": "python3"
  },
  "language_info": {
   "codemirror_mode": {
    "name": "ipython",
    "version": 3
   },
   "file_extension": ".py",
   "mimetype": "text/x-python",
   "name": "python",
   "nbconvert_exporter": "python",
   "pygments_lexer": "ipython3",
   "version": "3.10.12"
  }
 },
 "nbformat": 4,
 "nbformat_minor": 2
}
