{
 "cells": [
  {
   "cell_type": "code",
   "execution_count": 1,
   "metadata": {},
   "outputs": [],
   "source": [
    "import numpy as np\n",
    "import pandas as pd\n",
    "import matplotlib.pyplot as plt"
   ]
  },
  {
   "cell_type": "code",
   "execution_count": 3,
   "metadata": {},
   "outputs": [
    {
     "data": {
      "text/html": [
       "<div>\n",
       "<style scoped>\n",
       "    .dataframe tbody tr th:only-of-type {\n",
       "        vertical-align: middle;\n",
       "    }\n",
       "\n",
       "    .dataframe tbody tr th {\n",
       "        vertical-align: top;\n",
       "    }\n",
       "\n",
       "    .dataframe thead th {\n",
       "        text-align: right;\n",
       "    }\n",
       "</style>\n",
       "<table border=\"1\" class=\"dataframe\">\n",
       "  <thead>\n",
       "    <tr style=\"text-align: right;\">\n",
       "      <th></th>\n",
       "      <th>dados</th>\n",
       "    </tr>\n",
       "  </thead>\n",
       "  <tbody>\n",
       "    <tr>\n",
       "      <th>0</th>\n",
       "      <td>-1.085631</td>\n",
       "    </tr>\n",
       "    <tr>\n",
       "      <th>1</th>\n",
       "      <td>0.997345</td>\n",
       "    </tr>\n",
       "    <tr>\n",
       "      <th>2</th>\n",
       "      <td>0.282978</td>\n",
       "    </tr>\n",
       "    <tr>\n",
       "      <th>3</th>\n",
       "      <td>-1.506295</td>\n",
       "    </tr>\n",
       "    <tr>\n",
       "      <th>4</th>\n",
       "      <td>-0.578600</td>\n",
       "    </tr>\n",
       "  </tbody>\n",
       "</table>\n",
       "</div>"
      ],
      "text/plain": [
       "      dados\n",
       "0 -1.085631\n",
       "1  0.997345\n",
       "2  0.282978\n",
       "3 -1.506295\n",
       "4 -0.578600"
      ]
     },
     "execution_count": 3,
     "metadata": {},
     "output_type": "execute_result"
    }
   ],
   "source": [
    "# Gera os dados.\n",
    "\n",
    "# Gerar um dataframe com dados aleatórios.\n",
    "np.random.seed(123)\n",
    "df = pd.DataFrame({'dados': np.random.normal(size=100)})\n",
    "\n",
    "df.head()"
   ]
  },
  {
   "cell_type": "code",
   "execution_count": 4,
   "metadata": {},
   "outputs": [],
   "source": [
    "# Calcula o erro padrão por bootstrap.\n",
    "\n",
    "# Função para calcular o erro padrão da média.\n",
    "def calcular_erro_padrao_media(data, n_boot=1000):\n",
    "  n = len(data)\n",
    "  medias_boot = np.zeros(n_boot)  # Vetor para armazenar as médias bootstrap.\n",
    "  for i in range(n_boot):\n",
    "    # Amostragem bootstrap - com reposição - mesmo tamanho da amostra.\n",
    "    bootstrap_sample = np.random.choice(data, size=n, replace=True)\n",
    "    # Cálculo da média da amostra bootstrap.\n",
    "    medias_boot[i] = np.mean(bootstrap_sample)\n",
    "  return medias_boot"
   ]
  },
  {
   "cell_type": "code",
   "execution_count": 7,
   "metadata": {},
   "outputs": [],
   "source": [
    "# Chamada da função para calcular o erro padrão da média no dataframe.\n",
    "amostra_bootstrap = calcular_erro_padrao_media(df['dados'])"
   ]
  },
  {
   "cell_type": "code",
   "execution_count": 8,
   "metadata": {},
   "outputs": [
    {
     "data": {
      "image/png": "[encoded data removed]",
      "text/plain": [
       "<Figure size 640x480 with 1 Axes>"
      ]
     },
     "metadata": {},
     "output_type": "display_data"
    }
   ],
   "source": [
    "#  Histograma das médias bootstrap.\n",
    "plt.hist(amostra_bootstrap)\n",
    "plt.title('Histograma das médias bootstrap')\n",
    "plt.xlabel('Médias Bootstrap')\n",
    "plt.ylabel('Frequência')\n",
    "plt.show()"
   ]
  },
  {
   "cell_type": "code",
   "execution_count": 9,
   "metadata": {},
   "outputs": [
    {
     "name": "stdout",
     "output_type": "stream",
     "text": [
      "Desvio padrão das médias bootstrap: 0.10977363194204352\n"
     ]
    }
   ],
   "source": [
    "# Desvio padrão das médias bootstrap.\n",
    "desvio_padrao = np.std(amostra_bootstrap)\n",
    "print(f\"Desvio padrão das médias bootstrap: {desvio_padrao}\")"
   ]
  }
 ],
 "metadata": {
  "kernelspec": {
   "display_name": "Python 3",
   "language": "python",
   "name": "python3"
  },
  "language_info": {
   "codemirror_mode": {
    "name": "ipython",
    "version": 3
   },
   "file_extension": ".py",
   "mimetype": "text/x-python",
   "name": "python",
   "nbconvert_exporter": "python",
   "pygments_lexer": "ipython3",
   "version": "3.10.12"
  }
 },
 "nbformat": 4,
 "nbformat_minor": 2
}
