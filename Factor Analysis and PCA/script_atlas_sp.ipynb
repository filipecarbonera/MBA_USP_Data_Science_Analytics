{
 "cells": [
  {
   "cell_type": "markdown",
   "metadata": {},
   "source": [
    "# Análise Fatorial PCA\n",
    "\n",
    "MBA em Data Science e Analytics USP ESALQ\n",
    "\n",
    "Prof. Dr. Wilson Tarantin Junior\n",
    "\n",
    "-*- coding: utf-8 -*-"
   ]
  },
  {
   "cell_type": "code",
   "execution_count": 3,
   "metadata": {},
   "outputs": [],
   "source": [
    "# Instalando os pacotes.\n",
    "\n",
    "# !pip install pandas\n",
    "# !pip install numpy\n",
    "# !pip install factor_analyzer\n",
    "# !pip install sympy\n",
    "# !pip install scipy\n",
    "# !pip install matplotlib\n",
    "# !pip install seaborn\n",
    "# !pip install plotly\n",
    "# !pip install pingouin\n",
    "# !pip install pyshp\n"
   ]
  },
  {
   "cell_type": "code",
   "execution_count": 2,
   "metadata": {},
   "outputs": [],
   "source": [
    "# Importando os pacotes necessários.\n",
    "\n",
    "import pandas as pd\n",
    "import numpy as np\n",
    "from factor_analyzer import FactorAnalyzer\n",
    "from factor_analyzer.factor_analyzer import calculate_bartlett_sphericity\n",
    "import pingouin as pg\n",
    "import matplotlib.pyplot as plt\n",
    "import seaborn as sns\n",
    "import plotly.io as pio\n",
    "import plotly.graph_objects as go\n",
    "import shapefile as shp"
   ]
  },
  {
   "cell_type": "code",
   "execution_count": 3,
   "metadata": {},
   "outputs": [
    {
     "data": {
      "text/html": [
       "<div>\n",
       "<style scoped>\n",
       "    .dataframe tbody tr th:only-of-type {\n",
       "        vertical-align: middle;\n",
       "    }\n",
       "\n",
       "    .dataframe tbody tr th {\n",
       "        vertical-align: top;\n",
       "    }\n",
       "\n",
       "    .dataframe thead th {\n",
       "        text-align: right;\n",
       "    }\n",
       "</style>\n",
       "<table border=\"1\" class=\"dataframe\">\n",
       "  <thead>\n",
       "    <tr style=\"text-align: right;\">\n",
       "      <th></th>\n",
       "      <th>cód_ibge</th>\n",
       "      <th>distritos</th>\n",
       "      <th>renda</th>\n",
       "      <th>quota</th>\n",
       "      <th>escolaridade</th>\n",
       "      <th>idade</th>\n",
       "      <th>mortalidade</th>\n",
       "      <th>txcresc</th>\n",
       "      <th>causasext</th>\n",
       "      <th>favel</th>\n",
       "      <th>denspop</th>\n",
       "    </tr>\n",
       "  </thead>\n",
       "  <tbody>\n",
       "    <tr>\n",
       "      <th>0</th>\n",
       "      <td>1</td>\n",
       "      <td>Água Rasa</td>\n",
       "      <td>1961</td>\n",
       "      <td>34.619999</td>\n",
       "      <td>7.6</td>\n",
       "      <td>32</td>\n",
       "      <td>13.86</td>\n",
       "      <td>-1.840000</td>\n",
       "      <td>52.980000</td>\n",
       "      <td>0.00</td>\n",
       "      <td>125.610001</td>\n",
       "    </tr>\n",
       "    <tr>\n",
       "      <th>1</th>\n",
       "      <td>2</td>\n",
       "      <td>Alto de Pinheiros</td>\n",
       "      <td>4180</td>\n",
       "      <td>75.959999</td>\n",
       "      <td>8.4</td>\n",
       "      <td>33</td>\n",
       "      <td>8.68</td>\n",
       "      <td>-2.520000</td>\n",
       "      <td>38.570000</td>\n",
       "      <td>0.69</td>\n",
       "      <td>57.560001</td>\n",
       "    </tr>\n",
       "    <tr>\n",
       "      <th>2</th>\n",
       "      <td>3</td>\n",
       "      <td>Anhanguera</td>\n",
       "      <td>1093</td>\n",
       "      <td>4.500000</td>\n",
       "      <td>5.8</td>\n",
       "      <td>23</td>\n",
       "      <td>15.36</td>\n",
       "      <td>18.120001</td>\n",
       "      <td>22.680000</td>\n",
       "      <td>0.00</td>\n",
       "      <td>8.570000</td>\n",
       "    </tr>\n",
       "    <tr>\n",
       "      <th>3</th>\n",
       "      <td>4</td>\n",
       "      <td>Aricanduva</td>\n",
       "      <td>1311</td>\n",
       "      <td>21.020000</td>\n",
       "      <td>6.8</td>\n",
       "      <td>27</td>\n",
       "      <td>18.43</td>\n",
       "      <td>-1.070000</td>\n",
       "      <td>76.220001</td>\n",
       "      <td>5.38</td>\n",
       "      <td>138.539993</td>\n",
       "    </tr>\n",
       "    <tr>\n",
       "      <th>4</th>\n",
       "      <td>5</td>\n",
       "      <td>Artur Alvim</td>\n",
       "      <td>1248</td>\n",
       "      <td>15.910000</td>\n",
       "      <td>7.0</td>\n",
       "      <td>27</td>\n",
       "      <td>19.73</td>\n",
       "      <td>-1.400000</td>\n",
       "      <td>67.250000</td>\n",
       "      <td>4.11</td>\n",
       "      <td>167.399994</td>\n",
       "    </tr>\n",
       "  </tbody>\n",
       "</table>\n",
       "</div>"
      ],
      "text/plain": [
       "   cód_ibge          distritos  renda      quota  escolaridade  idade  \\\n",
       "0         1          Água Rasa   1961  34.619999           7.6     32   \n",
       "1         2  Alto de Pinheiros   4180  75.959999           8.4     33   \n",
       "2         3         Anhanguera   1093   4.500000           5.8     23   \n",
       "3         4         Aricanduva   1311  21.020000           6.8     27   \n",
       "4         5        Artur Alvim   1248  15.910000           7.0     27   \n",
       "\n",
       "   mortalidade    txcresc  causasext  favel     denspop  \n",
       "0        13.86  -1.840000  52.980000   0.00  125.610001  \n",
       "1         8.68  -2.520000  38.570000   0.69   57.560001  \n",
       "2        15.36  18.120001  22.680000   0.00    8.570000  \n",
       "3        18.43  -1.070000  76.220001   5.38  138.539993  \n",
       "4        19.73  -1.400000  67.250000   4.11  167.399994  "
      ]
     },
     "execution_count": 3,
     "metadata": {},
     "output_type": "execute_result"
    }
   ],
   "source": [
    "# Importando o banco de dados.\n",
    "\n",
    "url = 'https://github.com/filipecarbonera/MBA_USP_Data_Science_Analytics/raw/main/Factor%20Analysis%20and%20PCA/dados/atlas_ambiental.xlsx'\n",
    "\n",
    "atlas = pd.read_excel(url)\n",
    "atlas.head()"
   ]
  },
  {
   "cell_type": "code",
   "execution_count": 4,
   "metadata": {},
   "outputs": [
    {
     "name": "stdout",
     "output_type": "stream",
     "text": [
      "<class 'pandas.core.frame.DataFrame'>\n",
      "RangeIndex: 96 entries, 0 to 95\n",
      "Data columns (total 11 columns):\n",
      " #   Column        Non-Null Count  Dtype  \n",
      "---  ------        --------------  -----  \n",
      " 0   cód_ibge      96 non-null     int64  \n",
      " 1   distritos     96 non-null     object \n",
      " 2   renda         96 non-null     int64  \n",
      " 3   quota         96 non-null     float64\n",
      " 4   escolaridade  96 non-null     float64\n",
      " 5   idade         96 non-null     int64  \n",
      " 6   mortalidade   96 non-null     float64\n",
      " 7   txcresc       96 non-null     float64\n",
      " 8   causasext     96 non-null     float64\n",
      " 9   favel         96 non-null     float64\n",
      " 10  denspop       96 non-null     float64\n",
      "dtypes: float64(7), int64(3), object(1)\n",
      "memory usage: 8.4+ KB\n"
     ]
    }
   ],
   "source": [
    "# Informações sobre as variáveis.\n",
    "atlas.info()"
   ]
  },
  {
   "cell_type": "code",
   "execution_count": 5,
   "metadata": {},
   "outputs": [
    {
     "data": {
      "text/html": [
       "<div>\n",
       "<style scoped>\n",
       "    .dataframe tbody tr th:only-of-type {\n",
       "        vertical-align: middle;\n",
       "    }\n",
       "\n",
       "    .dataframe tbody tr th {\n",
       "        vertical-align: top;\n",
       "    }\n",
       "\n",
       "    .dataframe thead th {\n",
       "        text-align: right;\n",
       "    }\n",
       "</style>\n",
       "<table border=\"1\" class=\"dataframe\">\n",
       "  <thead>\n",
       "    <tr style=\"text-align: right;\">\n",
       "      <th></th>\n",
       "      <th>renda</th>\n",
       "      <th>quota</th>\n",
       "      <th>escolaridade</th>\n",
       "      <th>idade</th>\n",
       "      <th>mortalidade</th>\n",
       "      <th>txcresc</th>\n",
       "      <th>causasext</th>\n",
       "      <th>favel</th>\n",
       "      <th>denspop</th>\n",
       "    </tr>\n",
       "  </thead>\n",
       "  <tbody>\n",
       "    <tr>\n",
       "      <th>count</th>\n",
       "      <td>96.000000</td>\n",
       "      <td>96.000000</td>\n",
       "      <td>96.000000</td>\n",
       "      <td>96.000000</td>\n",
       "      <td>96.000000</td>\n",
       "      <td>96.000000</td>\n",
       "      <td>96.000000</td>\n",
       "      <td>96.000000</td>\n",
       "      <td>96.000000</td>\n",
       "    </tr>\n",
       "    <tr>\n",
       "      <th>mean</th>\n",
       "      <td>1856.218750</td>\n",
       "      <td>30.478021</td>\n",
       "      <td>7.075000</td>\n",
       "      <td>27.395833</td>\n",
       "      <td>15.992812</td>\n",
       "      <td>0.041146</td>\n",
       "      <td>71.086667</td>\n",
       "      <td>5.932187</td>\n",
       "      <td>99.860104</td>\n",
       "    </tr>\n",
       "    <tr>\n",
       "      <th>std</th>\n",
       "      <td>970.774441</td>\n",
       "      <td>23.040243</td>\n",
       "      <td>1.008908</td>\n",
       "      <td>4.385332</td>\n",
       "      <td>4.994409</td>\n",
       "      <td>3.509652</td>\n",
       "      <td>23.315169</td>\n",
       "      <td>7.883762</td>\n",
       "      <td>49.606814</td>\n",
       "    </tr>\n",
       "    <tr>\n",
       "      <th>min</th>\n",
       "      <td>159.000000</td>\n",
       "      <td>0.610000</td>\n",
       "      <td>4.800000</td>\n",
       "      <td>20.000000</td>\n",
       "      <td>6.460000</td>\n",
       "      <td>-6.240000</td>\n",
       "      <td>22.680000</td>\n",
       "      <td>0.000000</td>\n",
       "      <td>0.370000</td>\n",
       "    </tr>\n",
       "    <tr>\n",
       "      <th>25%</th>\n",
       "      <td>1150.000000</td>\n",
       "      <td>12.400000</td>\n",
       "      <td>6.300000</td>\n",
       "      <td>23.000000</td>\n",
       "      <td>12.960000</td>\n",
       "      <td>-2.042500</td>\n",
       "      <td>56.417499</td>\n",
       "      <td>0.000000</td>\n",
       "      <td>64.317497</td>\n",
       "    </tr>\n",
       "    <tr>\n",
       "      <th>50%</th>\n",
       "      <td>1628.000000</td>\n",
       "      <td>24.304999</td>\n",
       "      <td>7.000000</td>\n",
       "      <td>27.000000</td>\n",
       "      <td>16.230000</td>\n",
       "      <td>-0.835000</td>\n",
       "      <td>70.395000</td>\n",
       "      <td>3.015000</td>\n",
       "      <td>96.165001</td>\n",
       "    </tr>\n",
       "    <tr>\n",
       "      <th>75%</th>\n",
       "      <td>2315.500000</td>\n",
       "      <td>40.989999</td>\n",
       "      <td>7.850000</td>\n",
       "      <td>31.000000</td>\n",
       "      <td>18.720001</td>\n",
       "      <td>1.342500</td>\n",
       "      <td>82.370001</td>\n",
       "      <td>7.837500</td>\n",
       "      <td>136.222500</td>\n",
       "    </tr>\n",
       "    <tr>\n",
       "      <th>max</th>\n",
       "      <td>5146.000000</td>\n",
       "      <td>104.730003</td>\n",
       "      <td>9.200000</td>\n",
       "      <td>36.000000</td>\n",
       "      <td>44.250000</td>\n",
       "      <td>18.120001</td>\n",
       "      <td>127.370003</td>\n",
       "      <td>45.689999</td>\n",
       "      <td>249.600006</td>\n",
       "    </tr>\n",
       "  </tbody>\n",
       "</table>\n",
       "</div>"
      ],
      "text/plain": [
       "             renda       quota  escolaridade      idade  mortalidade  \\\n",
       "count    96.000000   96.000000     96.000000  96.000000    96.000000   \n",
       "mean   1856.218750   30.478021      7.075000  27.395833    15.992812   \n",
       "std     970.774441   23.040243      1.008908   4.385332     4.994409   \n",
       "min     159.000000    0.610000      4.800000  20.000000     6.460000   \n",
       "25%    1150.000000   12.400000      6.300000  23.000000    12.960000   \n",
       "50%    1628.000000   24.304999      7.000000  27.000000    16.230000   \n",
       "75%    2315.500000   40.989999      7.850000  31.000000    18.720001   \n",
       "max    5146.000000  104.730003      9.200000  36.000000    44.250000   \n",
       "\n",
       "         txcresc   causasext      favel     denspop  \n",
       "count  96.000000   96.000000  96.000000   96.000000  \n",
       "mean    0.041146   71.086667   5.932187   99.860104  \n",
       "std     3.509652   23.315169   7.883762   49.606814  \n",
       "min    -6.240000   22.680000   0.000000    0.370000  \n",
       "25%    -2.042500   56.417499   0.000000   64.317497  \n",
       "50%    -0.835000   70.395000   3.015000   96.165001  \n",
       "75%     1.342500   82.370001   7.837500  136.222500  \n",
       "max    18.120001  127.370003  45.689999  249.600006  "
      ]
     },
     "execution_count": 5,
     "metadata": {},
     "output_type": "execute_result"
    }
   ],
   "source": [
    "# Estatísticas descritiva das variáveis.\n",
    "tab_desc = atlas.drop(columns=['cód_ibge']).describe()\n",
    "tab_desc"
   ]
  },
  {
   "cell_type": "code",
   "execution_count": 7,
   "metadata": {},
   "outputs": [
    {
     "data": {
      "text/html": [
       "<div>\n",
       "<style scoped>\n",
       "    .dataframe tbody tr th:only-of-type {\n",
       "        vertical-align: middle;\n",
       "    }\n",
       "\n",
       "    .dataframe tbody tr th {\n",
       "        vertical-align: top;\n",
       "    }\n",
       "\n",
       "    .dataframe thead th {\n",
       "        text-align: right;\n",
       "    }\n",
       "</style>\n",
       "<table border=\"1\" class=\"dataframe\">\n",
       "  <thead>\n",
       "    <tr style=\"text-align: right;\">\n",
       "      <th></th>\n",
       "      <th>renda</th>\n",
       "      <th>quota</th>\n",
       "      <th>escolaridade</th>\n",
       "      <th>idade</th>\n",
       "      <th>mortalidade</th>\n",
       "      <th>txcresc</th>\n",
       "      <th>causasext</th>\n",
       "      <th>favel</th>\n",
       "      <th>denspop</th>\n",
       "    </tr>\n",
       "  </thead>\n",
       "  <tbody>\n",
       "    <tr>\n",
       "      <th>0</th>\n",
       "      <td>1961</td>\n",
       "      <td>34.619999</td>\n",
       "      <td>7.6</td>\n",
       "      <td>32</td>\n",
       "      <td>13.86</td>\n",
       "      <td>-1.840000</td>\n",
       "      <td>52.980000</td>\n",
       "      <td>0.00</td>\n",
       "      <td>125.610001</td>\n",
       "    </tr>\n",
       "    <tr>\n",
       "      <th>1</th>\n",
       "      <td>4180</td>\n",
       "      <td>75.959999</td>\n",
       "      <td>8.4</td>\n",
       "      <td>33</td>\n",
       "      <td>8.68</td>\n",
       "      <td>-2.520000</td>\n",
       "      <td>38.570000</td>\n",
       "      <td>0.69</td>\n",
       "      <td>57.560001</td>\n",
       "    </tr>\n",
       "    <tr>\n",
       "      <th>2</th>\n",
       "      <td>1093</td>\n",
       "      <td>4.500000</td>\n",
       "      <td>5.8</td>\n",
       "      <td>23</td>\n",
       "      <td>15.36</td>\n",
       "      <td>18.120001</td>\n",
       "      <td>22.680000</td>\n",
       "      <td>0.00</td>\n",
       "      <td>8.570000</td>\n",
       "    </tr>\n",
       "    <tr>\n",
       "      <th>3</th>\n",
       "      <td>1311</td>\n",
       "      <td>21.020000</td>\n",
       "      <td>6.8</td>\n",
       "      <td>27</td>\n",
       "      <td>18.43</td>\n",
       "      <td>-1.070000</td>\n",
       "      <td>76.220001</td>\n",
       "      <td>5.38</td>\n",
       "      <td>138.539993</td>\n",
       "    </tr>\n",
       "    <tr>\n",
       "      <th>4</th>\n",
       "      <td>1248</td>\n",
       "      <td>15.910000</td>\n",
       "      <td>7.0</td>\n",
       "      <td>27</td>\n",
       "      <td>19.73</td>\n",
       "      <td>-1.400000</td>\n",
       "      <td>67.250000</td>\n",
       "      <td>4.11</td>\n",
       "      <td>167.399994</td>\n",
       "    </tr>\n",
       "  </tbody>\n",
       "</table>\n",
       "</div>"
      ],
      "text/plain": [
       "   renda      quota  escolaridade  idade  mortalidade    txcresc  causasext  \\\n",
       "0   1961  34.619999           7.6     32        13.86  -1.840000  52.980000   \n",
       "1   4180  75.959999           8.4     33         8.68  -2.520000  38.570000   \n",
       "2   1093   4.500000           5.8     23        15.36  18.120001  22.680000   \n",
       "3   1311  21.020000           6.8     27        18.43  -1.070000  76.220001   \n",
       "4   1248  15.910000           7.0     27        19.73  -1.400000  67.250000   \n",
       "\n",
       "   favel     denspop  \n",
       "0   0.00  125.610001  \n",
       "1   0.69   57.560001  \n",
       "2   0.00    8.570000  \n",
       "3   5.38  138.539993  \n",
       "4   4.11  167.399994  "
      ]
     },
     "execution_count": 7,
     "metadata": {},
     "output_type": "execute_result"
    }
   ],
   "source": [
    "# Separando somente as variáveis quantitativas do banco de dados.\n",
    "atlas_pca = atlas.drop(columns=['cód_ibge', 'distritos'])\n",
    "atlas_pca.head()"
   ]
  },
  {
   "cell_type": "code",
   "execution_count": 13,
   "metadata": {},
   "outputs": [
    {
     "data": {
      "application/vnd.plotly.v1+json": {
       "config": {
        "plotlyServerURL": "https://plot.ly"
       },
       "data": [
        {
         "colorscale": [
          [
           0,
           "#440154"
          ],
          [
           0.1111111111111111,
           "#482878"
          ],
          [
           0.2222222222222222,
           "#3e4989"
          ],
          [
           0.3333333333333333,
           "#31688e"
          ],
          [
           0.4444444444444444,
           "#26828e"
          ],
          [
           0.5555555555555556,
           "#1f9e89"
          ],
          [
           0.6666666666666666,
           "#35b779"
          ],
          [
           0.7777777777777778,
           "#6ece58"
          ],
          [
           0.8888888888888888,
           "#b5de2b"
          ],
          [
           1,
           "#fde725"
          ]
         ],
         "text": [
          [
           1,
           0.920099372633057,
           0.7773321552924742,
           0.7323070530614036,
           -0.5195849710513089,
           -0.42471078977805,
           -0.4625156748047652,
           -0.14695749214036943,
           -0.019710758602103615
          ],
          [
           0.920099372633057,
           1,
           0.8504545992244678,
           0.8327368593774724,
           -0.520281997686538,
           -0.5547672417451366,
           -0.49101970867913547,
           -0.24301017777860187,
           0.05737441799934417
          ],
          [
           0.7773321552924742,
           0.8504545992244678,
           1,
           0.9558248655625526,
           -0.5826008485249803,
           -0.6929675877266783,
           -0.6066208396312525,
           -0.4325479612621879,
           0.15767282807027694
          ],
          [
           0.7323070530614036,
           0.8327368593774724,
           0.9558248655625526,
           1,
           -0.5537583197513372,
           -0.7032367447011415,
           -0.6150733946258246,
           -0.49983846844935026,
           0.1414691683257122
          ],
          [
           -0.5195849710513089,
           -0.520281997686538,
           -0.5826008485249803,
           -0.5537583197513372,
           1,
           0.34604928151566444,
           0.42278950951956656,
           0.13087742247421044,
           -0.09301763261898212
          ],
          [
           -0.42471078977805,
           -0.5547672417451366,
           -0.6929675877266783,
           -0.7032367447011415,
           0.34604928151566444,
           1,
           0.2344723994566316,
           0.28185252032376523,
           -0.2790837526134761
          ],
          [
           -0.4625156748047652,
           -0.49101970867913547,
           -0.6066208396312525,
           -0.6150733946258246,
           0.42278950951956656,
           0.2344723994566316,
           1,
           0.4044468523045046,
           -0.04528098451491298
          ],
          [
           -0.14695749214036943,
           -0.24301017777860187,
           -0.4325479612621879,
           -0.49983846844935026,
           0.13087742247421044,
           0.28185252032376523,
           0.4044468523045046,
           1,
           -0.1064811994718267
          ],
          [
           -0.019710758602103615,
           0.05737441799934417,
           0.15767282807027694,
           0.1414691683257122,
           -0.09301763261898212,
           -0.2790837526134761,
           -0.04528098451491298,
           -0.1064811994718267,
           1
          ]
         ],
         "texttemplate": "%{text:.4f}",
         "type": "heatmap",
         "x": [
          "renda",
          "quota",
          "escolaridade",
          "idade",
          "mortalidade",
          "txcresc",
          "causasext",
          "favel",
          "denspop"
         ],
         "y": [
          "renda",
          "quota",
          "escolaridade",
          "idade",
          "mortalidade",
          "txcresc",
          "causasext",
          "favel",
          "denspop"
         ],
         "z": [
          [
           1,
           0.92,
           0.78,
           0.73,
           -0.52,
           -0.42,
           -0.46,
           -0.15,
           -0.02
          ],
          [
           0.92,
           1,
           0.85,
           0.83,
           -0.52,
           -0.55,
           -0.49,
           -0.24,
           0.06
          ],
          [
           0.78,
           0.85,
           1,
           0.96,
           -0.58,
           -0.69,
           -0.61,
           -0.43,
           0.16
          ],
          [
           0.73,
           0.83,
           0.96,
           1,
           -0.55,
           -0.7,
           -0.62,
           -0.5,
           0.14
          ],
          [
           -0.52,
           -0.52,
           -0.58,
           -0.55,
           1,
           0.35,
           0.42,
           0.13,
           -0.09
          ],
          [
           -0.42,
           -0.55,
           -0.69,
           -0.7,
           0.35,
           1,
           0.23,
           0.28,
           -0.28
          ],
          [
           -0.46,
           -0.49,
           -0.61,
           -0.62,
           0.42,
           0.23,
           1,
           0.4,
           -0.05
          ],
          [
           -0.15,
           -0.24,
           -0.43,
           -0.5,
           0.13,
           0.28,
           0.4,
           1,
           -0.11
          ],
          [
           -0.02,
           0.06,
           0.16,
           0.14,
           -0.09,
           -0.28,
           -0.05,
           -0.11,
           1
          ]
         ]
        }
       ],
       "layout": {
        "height": 450,
        "template": {
         "data": {
          "bar": [
           {
            "error_x": {
             "color": "#2a3f5f"
            },
            "error_y": {
             "color": "#2a3f5f"
            },
            "marker": {
             "line": {
              "color": "#E5ECF6",
              "width": 0.5
             },
             "pattern": {
              "fillmode": "overlay",
              "size": 10,
              "solidity": 0.2
             }
            },
            "type": "bar"
           }
          ],
          "barpolar": [
           {
            "marker": {
             "line": {
              "color": "#E5ECF6",
              "width": 0.5
             },
             "pattern": {
              "fillmode": "overlay",
              "size": 10,
              "solidity": 0.2
             }
            },
            "type": "barpolar"
           }
          ],
          "carpet": [
           {
            "aaxis": {
             "endlinecolor": "#2a3f5f",
             "gridcolor": "white",
             "linecolor": "white",
             "minorgridcolor": "white",
             "startlinecolor": "#2a3f5f"
            },
            "baxis": {
             "endlinecolor": "#2a3f5f",
             "gridcolor": "white",
             "linecolor": "white",
             "minorgridcolor": "white",
             "startlinecolor": "#2a3f5f"
            },
            "type": "carpet"
           }
          ],
          "choropleth": [
           {
            "colorbar": {
             "outlinewidth": 0,
             "ticks": ""
            },
            "type": "choropleth"
           }
          ],
          "contour": [
           {
            "colorbar": {
             "outlinewidth": 0,
             "ticks": ""
            },
            "colorscale": [
             [
              0,
              "#0d0887"
             ],
             [
              0.1111111111111111,
              "#46039f"
             ],
             [
              0.2222222222222222,
              "#7201a8"
             ],
             [
              0.3333333333333333,
              "#9c179e"
             ],
             [
              0.4444444444444444,
              "#bd3786"
             ],
             [
              0.5555555555555556,
              "#d8576b"
             ],
             [
              0.6666666666666666,
              "#ed7953"
             ],
             [
              0.7777777777777778,
              "#fb9f3a"
             ],
             [
              0.8888888888888888,
              "#fdca26"
             ],
             [
              1,
              "#f0f921"
             ]
            ],
            "type": "contour"
           }
          ],
          "contourcarpet": [
           {
            "colorbar": {
             "outlinewidth": 0,
             "ticks": ""
            },
            "type": "contourcarpet"
           }
          ],
          "heatmap": [
           {
            "colorbar": {
             "outlinewidth": 0,
             "ticks": ""
            },
            "colorscale": [
             [
              0,
              "#0d0887"
             ],
             [
              0.1111111111111111,
              "#46039f"
             ],
             [
              0.2222222222222222,
              "#7201a8"
             ],
             [
              0.3333333333333333,
              "#9c179e"
             ],
             [
              0.4444444444444444,
              "#bd3786"
             ],
             [
              0.5555555555555556,
              "#d8576b"
             ],
             [
              0.6666666666666666,
              "#ed7953"
             ],
             [
              0.7777777777777778,
              "#fb9f3a"
             ],
             [
              0.8888888888888888,
              "#fdca26"
             ],
             [
              1,
              "#f0f921"
             ]
            ],
            "type": "heatmap"
           }
          ],
          "heatmapgl": [
           {
            "colorbar": {
             "outlinewidth": 0,
             "ticks": ""
            },
            "colorscale": [
             [
              0,
              "#0d0887"
             ],
             [
              0.1111111111111111,
              "#46039f"
             ],
             [
              0.2222222222222222,
              "#7201a8"
             ],
             [
              0.3333333333333333,
              "#9c179e"
             ],
             [
              0.4444444444444444,
              "#bd3786"
             ],
             [
              0.5555555555555556,
              "#d8576b"
             ],
             [
              0.6666666666666666,
              "#ed7953"
             ],
             [
              0.7777777777777778,
              "#fb9f3a"
             ],
             [
              0.8888888888888888,
              "#fdca26"
             ],
             [
              1,
              "#f0f921"
             ]
            ],
            "type": "heatmapgl"
           }
          ],
          "histogram": [
           {
            "marker": {
             "pattern": {
              "fillmode": "overlay",
              "size": 10,
              "solidity": 0.2
             }
            },
            "type": "histogram"
           }
          ],
          "histogram2d": [
           {
            "colorbar": {
             "outlinewidth": 0,
             "ticks": ""
            },
            "colorscale": [
             [
              0,
              "#0d0887"
             ],
             [
              0.1111111111111111,
              "#46039f"
             ],
             [
              0.2222222222222222,
              "#7201a8"
             ],
             [
              0.3333333333333333,
              "#9c179e"
             ],
             [
              0.4444444444444444,
              "#bd3786"
             ],
             [
              0.5555555555555556,
              "#d8576b"
             ],
             [
              0.6666666666666666,
              "#ed7953"
             ],
             [
              0.7777777777777778,
              "#fb9f3a"
             ],
             [
              0.8888888888888888,
              "#fdca26"
             ],
             [
              1,
              "#f0f921"
             ]
            ],
            "type": "histogram2d"
           }
          ],
          "histogram2dcontour": [
           {
            "colorbar": {
             "outlinewidth": 0,
             "ticks": ""
            },
            "colorscale": [
             [
              0,
              "#0d0887"
             ],
             [
              0.1111111111111111,
              "#46039f"
             ],
             [
              0.2222222222222222,
              "#7201a8"
             ],
             [
              0.3333333333333333,
              "#9c179e"
             ],
             [
              0.4444444444444444,
              "#bd3786"
             ],
             [
              0.5555555555555556,
              "#d8576b"
             ],
             [
              0.6666666666666666,
              "#ed7953"
             ],
             [
              0.7777777777777778,
              "#fb9f3a"
             ],
             [
              0.8888888888888888,
              "#fdca26"
             ],
             [
              1,
              "#f0f921"
             ]
            ],
            "type": "histogram2dcontour"
           }
          ],
          "mesh3d": [
           {
            "colorbar": {
             "outlinewidth": 0,
             "ticks": ""
            },
            "type": "mesh3d"
           }
          ],
          "parcoords": [
           {
            "line": {
             "colorbar": {
              "outlinewidth": 0,
              "ticks": ""
             }
            },
            "type": "parcoords"
           }
          ],
          "pie": [
           {
            "automargin": true,
            "type": "pie"
           }
          ],
          "scatter": [
           {
            "fillpattern": {
             "fillmode": "overlay",
             "size": 10,
             "solidity": 0.2
            },
            "type": "scatter"
           }
          ],
          "scatter3d": [
           {
            "line": {
             "colorbar": {
              "outlinewidth": 0,
              "ticks": ""
             }
            },
            "marker": {
             "colorbar": {
              "outlinewidth": 0,
              "ticks": ""
             }
            },
            "type": "scatter3d"
           }
          ],
          "scattercarpet": [
           {
            "marker": {
             "colorbar": {
              "outlinewidth": 0,
              "ticks": ""
             }
            },
            "type": "scattercarpet"
           }
          ],
          "scattergeo": [
           {
            "marker": {
             "colorbar": {
              "outlinewidth": 0,
              "ticks": ""
             }
            },
            "type": "scattergeo"
           }
          ],
          "scattergl": [
           {
            "marker": {
             "colorbar": {
              "outlinewidth": 0,
              "ticks": ""
             }
            },
            "type": "scattergl"
           }
          ],
          "scattermapbox": [
           {
            "marker": {
             "colorbar": {
              "outlinewidth": 0,
              "ticks": ""
             }
            },
            "type": "scattermapbox"
           }
          ],
          "scatterpolar": [
           {
            "marker": {
             "colorbar": {
              "outlinewidth": 0,
              "ticks": ""
             }
            },
            "type": "scatterpolar"
           }
          ],
          "scatterpolargl": [
           {
            "marker": {
             "colorbar": {
              "outlinewidth": 0,
              "ticks": ""
             }
            },
            "type": "scatterpolargl"
           }
          ],
          "scatterternary": [
           {
            "marker": {
             "colorbar": {
              "outlinewidth": 0,
              "ticks": ""
             }
            },
            "type": "scatterternary"
           }
          ],
          "surface": [
           {
            "colorbar": {
             "outlinewidth": 0,
             "ticks": ""
            },
            "colorscale": [
             [
              0,
              "#0d0887"
             ],
             [
              0.1111111111111111,
              "#46039f"
             ],
             [
              0.2222222222222222,
              "#7201a8"
             ],
             [
              0.3333333333333333,
              "#9c179e"
             ],
             [
              0.4444444444444444,
              "#bd3786"
             ],
             [
              0.5555555555555556,
              "#d8576b"
             ],
             [
              0.6666666666666666,
              "#ed7953"
             ],
             [
              0.7777777777777778,
              "#fb9f3a"
             ],
             [
              0.8888888888888888,
              "#fdca26"
             ],
             [
              1,
              "#f0f921"
             ]
            ],
            "type": "surface"
           }
          ],
          "table": [
           {
            "cells": {
             "fill": {
              "color": "#EBF0F8"
             },
             "line": {
              "color": "white"
             }
            },
            "header": {
             "fill": {
              "color": "#C8D4E3"
             },
             "line": {
              "color": "white"
             }
            },
            "type": "table"
           }
          ]
         },
         "layout": {
          "annotationdefaults": {
           "arrowcolor": "#2a3f5f",
           "arrowhead": 0,
           "arrowwidth": 1
          },
          "autotypenumbers": "strict",
          "coloraxis": {
           "colorbar": {
            "outlinewidth": 0,
            "ticks": ""
           }
          },
          "colorscale": {
           "diverging": [
            [
             0,
             "#8e0152"
            ],
            [
             0.1,
             "#c51b7d"
            ],
            [
             0.2,
             "#de77ae"
            ],
            [
             0.3,
             "#f1b6da"
            ],
            [
             0.4,
             "#fde0ef"
            ],
            [
             0.5,
             "#f7f7f7"
            ],
            [
             0.6,
             "#e6f5d0"
            ],
            [
             0.7,
             "#b8e186"
            ],
            [
             0.8,
             "#7fbc41"
            ],
            [
             0.9,
             "#4d9221"
            ],
            [
             1,
             "#276419"
            ]
           ],
           "sequential": [
            [
             0,
             "#0d0887"
            ],
            [
             0.1111111111111111,
             "#46039f"
            ],
            [
             0.2222222222222222,
             "#7201a8"
            ],
            [
             0.3333333333333333,
             "#9c179e"
            ],
            [
             0.4444444444444444,
             "#bd3786"
            ],
            [
             0.5555555555555556,
             "#d8576b"
            ],
            [
             0.6666666666666666,
             "#ed7953"
            ],
            [
             0.7777777777777778,
             "#fb9f3a"
            ],
            [
             0.8888888888888888,
             "#fdca26"
            ],
            [
             1,
             "#f0f921"
            ]
           ],
           "sequentialminus": [
            [
             0,
             "#0d0887"
            ],
            [
             0.1111111111111111,
             "#46039f"
            ],
            [
             0.2222222222222222,
             "#7201a8"
            ],
            [
             0.3333333333333333,
             "#9c179e"
            ],
            [
             0.4444444444444444,
             "#bd3786"
            ],
            [
             0.5555555555555556,
             "#d8576b"
            ],
            [
             0.6666666666666666,
             "#ed7953"
            ],
            [
             0.7777777777777778,
             "#fb9f3a"
            ],
            [
             0.8888888888888888,
             "#fdca26"
            ],
            [
             1,
             "#f0f921"
            ]
           ]
          },
          "colorway": [
           "#636efa",
           "#EF553B",
           "#00cc96",
           "#ab63fa",
           "#FFA15A",
           "#19d3f3",
           "#FF6692",
           "#B6E880",
           "#FF97FF",
           "#FECB52"
          ],
          "font": {
           "color": "#2a3f5f"
          },
          "geo": {
           "bgcolor": "white",
           "lakecolor": "white",
           "landcolor": "#E5ECF6",
           "showlakes": true,
           "showland": true,
           "subunitcolor": "white"
          },
          "hoverlabel": {
           "align": "left"
          },
          "hovermode": "closest",
          "mapbox": {
           "style": "light"
          },
          "paper_bgcolor": "white",
          "plot_bgcolor": "#E5ECF6",
          "polar": {
           "angularaxis": {
            "gridcolor": "white",
            "linecolor": "white",
            "ticks": ""
           },
           "bgcolor": "#E5ECF6",
           "radialaxis": {
            "gridcolor": "white",
            "linecolor": "white",
            "ticks": ""
           }
          },
          "scene": {
           "xaxis": {
            "backgroundcolor": "#E5ECF6",
            "gridcolor": "white",
            "gridwidth": 2,
            "linecolor": "white",
            "showbackground": true,
            "ticks": "",
            "zerolinecolor": "white"
           },
           "yaxis": {
            "backgroundcolor": "#E5ECF6",
            "gridcolor": "white",
            "gridwidth": 2,
            "linecolor": "white",
            "showbackground": true,
            "ticks": "",
            "zerolinecolor": "white"
           },
           "zaxis": {
            "backgroundcolor": "#E5ECF6",
            "gridcolor": "white",
            "gridwidth": 2,
            "linecolor": "white",
            "showbackground": true,
            "ticks": "",
            "zerolinecolor": "white"
           }
          },
          "shapedefaults": {
           "line": {
            "color": "#2a3f5f"
           }
          },
          "ternary": {
           "aaxis": {
            "gridcolor": "white",
            "linecolor": "white",
            "ticks": ""
           },
           "baxis": {
            "gridcolor": "white",
            "linecolor": "white",
            "ticks": ""
           },
           "bgcolor": "#E5ECF6",
           "caxis": {
            "gridcolor": "white",
            "linecolor": "white",
            "ticks": ""
           }
          },
          "title": {
           "x": 0.05
          },
          "xaxis": {
           "automargin": true,
           "gridcolor": "white",
           "linecolor": "white",
           "ticks": "",
           "title": {
            "standoff": 15
           },
           "zerolinecolor": "white",
           "zerolinewidth": 2
          },
          "yaxis": {
           "automargin": true,
           "gridcolor": "white",
           "linecolor": "white",
           "ticks": "",
           "title": {
            "standoff": 15
           },
           "zerolinecolor": "white",
           "zerolinewidth": 2
          }
         }
        },
        "width": 700,
        "yaxis": {
         "autorange": "reversed"
        }
       }
      },
      "text/html": [
       "<div>                            <div id=\"e21ce8ce-d9b2-4147-aea5-6e8d6f864666\" class=\"plotly-graph-div\" style=\"height:450px; width:700px;\"></div>            <script type=\"text/javascript\">                require([\"plotly\"], function(Plotly) {                    window.PLOTLYENV=window.PLOTLYENV || {};                                    if (document.getElementById(\"e21ce8ce-d9b2-4147-aea5-6e8d6f864666\")) {                    Plotly.newPlot(                        \"e21ce8ce-d9b2-4147-aea5-6e8d6f864666\",                        [{\"colorscale\":[[0.0,\"#440154\"],[0.1111111111111111,\"#482878\"],[0.2222222222222222,\"#3e4989\"],[0.3333333333333333,\"#31688e\"],[0.4444444444444444,\"#26828e\"],[0.5555555555555556,\"#1f9e89\"],[0.6666666666666666,\"#35b779\"],[0.7777777777777778,\"#6ece58\"],[0.8888888888888888,\"#b5de2b\"],[1.0,\"#fde725\"]],\"text\":[[1.0,0.920099372633057,0.7773321552924742,0.7323070530614036,-0.5195849710513089,-0.42471078977805,-0.4625156748047652,-0.14695749214036943,-0.019710758602103615],[0.920099372633057,1.0,0.8504545992244678,0.8327368593774724,-0.520281997686538,-0.5547672417451366,-0.49101970867913547,-0.24301017777860187,0.05737441799934417],[0.7773321552924742,0.8504545992244678,1.0,0.9558248655625526,-0.5826008485249803,-0.6929675877266783,-0.6066208396312525,-0.4325479612621879,0.15767282807027694],[0.7323070530614036,0.8327368593774724,0.9558248655625526,1.0,-0.5537583197513372,-0.7032367447011415,-0.6150733946258246,-0.49983846844935026,0.1414691683257122],[-0.5195849710513089,-0.520281997686538,-0.5826008485249803,-0.5537583197513372,1.0,0.34604928151566444,0.42278950951956656,0.13087742247421044,-0.09301763261898212],[-0.42471078977805,-0.5547672417451366,-0.6929675877266783,-0.7032367447011415,0.34604928151566444,1.0,0.2344723994566316,0.28185252032376523,-0.2790837526134761],[-0.4625156748047652,-0.49101970867913547,-0.6066208396312525,-0.6150733946258246,0.42278950951956656,0.2344723994566316,1.0,0.4044468523045046,-0.04528098451491298],[-0.14695749214036943,-0.24301017777860187,-0.4325479612621879,-0.49983846844935026,0.13087742247421044,0.28185252032376523,0.4044468523045046,1.0,-0.1064811994718267],[-0.019710758602103615,0.05737441799934417,0.15767282807027694,0.1414691683257122,-0.09301763261898212,-0.2790837526134761,-0.04528098451491298,-0.1064811994718267,1.0]],\"texttemplate\":\"%{text:.4f}\",\"x\":[\"renda\",\"quota\",\"escolaridade\",\"idade\",\"mortalidade\",\"txcresc\",\"causasext\",\"favel\",\"denspop\"],\"y\":[\"renda\",\"quota\",\"escolaridade\",\"idade\",\"mortalidade\",\"txcresc\",\"causasext\",\"favel\",\"denspop\"],\"z\":[[1.0,0.92,0.78,0.73,-0.52,-0.42,-0.46,-0.15,-0.02],[0.92,1.0,0.85,0.83,-0.52,-0.55,-0.49,-0.24,0.06],[0.78,0.85,1.0,0.96,-0.58,-0.69,-0.61,-0.43,0.16],[0.73,0.83,0.96,1.0,-0.55,-0.7,-0.62,-0.5,0.14],[-0.52,-0.52,-0.58,-0.55,1.0,0.35,0.42,0.13,-0.09],[-0.42,-0.55,-0.69,-0.7,0.35,1.0,0.23,0.28,-0.28],[-0.46,-0.49,-0.61,-0.62,0.42,0.23,1.0,0.4,-0.05],[-0.15,-0.24,-0.43,-0.5,0.13,0.28,0.4,1.0,-0.11],[-0.02,0.06,0.16,0.14,-0.09,-0.28,-0.05,-0.11,1.0]],\"type\":\"heatmap\"}],                        {\"template\":{\"data\":{\"histogram2dcontour\":[{\"type\":\"histogram2dcontour\",\"colorbar\":{\"outlinewidth\":0,\"ticks\":\"\"},\"colorscale\":[[0.0,\"#0d0887\"],[0.1111111111111111,\"#46039f\"],[0.2222222222222222,\"#7201a8\"],[0.3333333333333333,\"#9c179e\"],[0.4444444444444444,\"#bd3786\"],[0.5555555555555556,\"#d8576b\"],[0.6666666666666666,\"#ed7953\"],[0.7777777777777778,\"#fb9f3a\"],[0.8888888888888888,\"#fdca26\"],[1.0,\"#f0f921\"]]}],\"choropleth\":[{\"type\":\"choropleth\",\"colorbar\":{\"outlinewidth\":0,\"ticks\":\"\"}}],\"histogram2d\":[{\"type\":\"histogram2d\",\"colorbar\":{\"outlinewidth\":0,\"ticks\":\"\"},\"colorscale\":[[0.0,\"#0d0887\"],[0.1111111111111111,\"#46039f\"],[0.2222222222222222,\"#7201a8\"],[0.3333333333333333,\"#9c179e\"],[0.4444444444444444,\"#bd3786\"],[0.5555555555555556,\"#d8576b\"],[0.6666666666666666,\"#ed7953\"],[0.7777777777777778,\"#fb9f3a\"],[0.8888888888888888,\"#fdca26\"],[1.0,\"#f0f921\"]]}],\"heatmap\":[{\"type\":\"heatmap\",\"colorbar\":{\"outlinewidth\":0,\"ticks\":\"\"},\"colorscale\":[[0.0,\"#0d0887\"],[0.1111111111111111,\"#46039f\"],[0.2222222222222222,\"#7201a8\"],[0.3333333333333333,\"#9c179e\"],[0.4444444444444444,\"#bd3786\"],[0.5555555555555556,\"#d8576b\"],[0.6666666666666666,\"#ed7953\"],[0.7777777777777778,\"#fb9f3a\"],[0.8888888888888888,\"#fdca26\"],[1.0,\"#f0f921\"]]}],\"heatmapgl\":[{\"type\":\"heatmapgl\",\"colorbar\":{\"outlinewidth\":0,\"ticks\":\"\"},\"colorscale\":[[0.0,\"#0d0887\"],[0.1111111111111111,\"#46039f\"],[0.2222222222222222,\"#7201a8\"],[0.3333333333333333,\"#9c179e\"],[0.4444444444444444,\"#bd3786\"],[0.5555555555555556,\"#d8576b\"],[0.6666666666666666,\"#ed7953\"],[0.7777777777777778,\"#fb9f3a\"],[0.8888888888888888,\"#fdca26\"],[1.0,\"#f0f921\"]]}],\"contourcarpet\":[{\"type\":\"contourcarpet\",\"colorbar\":{\"outlinewidth\":0,\"ticks\":\"\"}}],\"contour\":[{\"type\":\"contour\",\"colorbar\":{\"outlinewidth\":0,\"ticks\":\"\"},\"colorscale\":[[0.0,\"#0d0887\"],[0.1111111111111111,\"#46039f\"],[0.2222222222222222,\"#7201a8\"],[0.3333333333333333,\"#9c179e\"],[0.4444444444444444,\"#bd3786\"],[0.5555555555555556,\"#d8576b\"],[0.6666666666666666,\"#ed7953\"],[0.7777777777777778,\"#fb9f3a\"],[0.8888888888888888,\"#fdca26\"],[1.0,\"#f0f921\"]]}],\"surface\":[{\"type\":\"surface\",\"colorbar\":{\"outlinewidth\":0,\"ticks\":\"\"},\"colorscale\":[[0.0,\"#0d0887\"],[0.1111111111111111,\"#46039f\"],[0.2222222222222222,\"#7201a8\"],[0.3333333333333333,\"#9c179e\"],[0.4444444444444444,\"#bd3786\"],[0.5555555555555556,\"#d8576b\"],[0.6666666666666666,\"#ed7953\"],[0.7777777777777778,\"#fb9f3a\"],[0.8888888888888888,\"#fdca26\"],[1.0,\"#f0f921\"]]}],\"mesh3d\":[{\"type\":\"mesh3d\",\"colorbar\":{\"outlinewidth\":0,\"ticks\":\"\"}}],\"scatter\":[{\"fillpattern\":{\"fillmode\":\"overlay\",\"size\":10,\"solidity\":0.2},\"type\":\"scatter\"}],\"parcoords\":[{\"type\":\"parcoords\",\"line\":{\"colorbar\":{\"outlinewidth\":0,\"ticks\":\"\"}}}],\"scatterpolargl\":[{\"type\":\"scatterpolargl\",\"marker\":{\"colorbar\":{\"outlinewidth\":0,\"ticks\":\"\"}}}],\"bar\":[{\"error_x\":{\"color\":\"#2a3f5f\"},\"error_y\":{\"color\":\"#2a3f5f\"},\"marker\":{\"line\":{\"color\":\"#E5ECF6\",\"width\":0.5},\"pattern\":{\"fillmode\":\"overlay\",\"size\":10,\"solidity\":0.2}},\"type\":\"bar\"}],\"scattergeo\":[{\"type\":\"scattergeo\",\"marker\":{\"colorbar\":{\"outlinewidth\":0,\"ticks\":\"\"}}}],\"scatterpolar\":[{\"type\":\"scatterpolar\",\"marker\":{\"colorbar\":{\"outlinewidth\":0,\"ticks\":\"\"}}}],\"histogram\":[{\"marker\":{\"pattern\":{\"fillmode\":\"overlay\",\"size\":10,\"solidity\":0.2}},\"type\":\"histogram\"}],\"scattergl\":[{\"type\":\"scattergl\",\"marker\":{\"colorbar\":{\"outlinewidth\":0,\"ticks\":\"\"}}}],\"scatter3d\":[{\"type\":\"scatter3d\",\"line\":{\"colorbar\":{\"outlinewidth\":0,\"ticks\":\"\"}},\"marker\":{\"colorbar\":{\"outlinewidth\":0,\"ticks\":\"\"}}}],\"scattermapbox\":[{\"type\":\"scattermapbox\",\"marker\":{\"colorbar\":{\"outlinewidth\":0,\"ticks\":\"\"}}}],\"scatterternary\":[{\"type\":\"scatterternary\",\"marker\":{\"colorbar\":{\"outlinewidth\":0,\"ticks\":\"\"}}}],\"scattercarpet\":[{\"type\":\"scattercarpet\",\"marker\":{\"colorbar\":{\"outlinewidth\":0,\"ticks\":\"\"}}}],\"carpet\":[{\"aaxis\":{\"endlinecolor\":\"#2a3f5f\",\"gridcolor\":\"white\",\"linecolor\":\"white\",\"minorgridcolor\":\"white\",\"startlinecolor\":\"#2a3f5f\"},\"baxis\":{\"endlinecolor\":\"#2a3f5f\",\"gridcolor\":\"white\",\"linecolor\":\"white\",\"minorgridcolor\":\"white\",\"startlinecolor\":\"#2a3f5f\"},\"type\":\"carpet\"}],\"table\":[{\"cells\":{\"fill\":{\"color\":\"#EBF0F8\"},\"line\":{\"color\":\"white\"}},\"header\":{\"fill\":{\"color\":\"#C8D4E3\"},\"line\":{\"color\":\"white\"}},\"type\":\"table\"}],\"barpolar\":[{\"marker\":{\"line\":{\"color\":\"#E5ECF6\",\"width\":0.5},\"pattern\":{\"fillmode\":\"overlay\",\"size\":10,\"solidity\":0.2}},\"type\":\"barpolar\"}],\"pie\":[{\"automargin\":true,\"type\":\"pie\"}]},\"layout\":{\"autotypenumbers\":\"strict\",\"colorway\":[\"#636efa\",\"#EF553B\",\"#00cc96\",\"#ab63fa\",\"#FFA15A\",\"#19d3f3\",\"#FF6692\",\"#B6E880\",\"#FF97FF\",\"#FECB52\"],\"font\":{\"color\":\"#2a3f5f\"},\"hovermode\":\"closest\",\"hoverlabel\":{\"align\":\"left\"},\"paper_bgcolor\":\"white\",\"plot_bgcolor\":\"#E5ECF6\",\"polar\":{\"bgcolor\":\"#E5ECF6\",\"angularaxis\":{\"gridcolor\":\"white\",\"linecolor\":\"white\",\"ticks\":\"\"},\"radialaxis\":{\"gridcolor\":\"white\",\"linecolor\":\"white\",\"ticks\":\"\"}},\"ternary\":{\"bgcolor\":\"#E5ECF6\",\"aaxis\":{\"gridcolor\":\"white\",\"linecolor\":\"white\",\"ticks\":\"\"},\"baxis\":{\"gridcolor\":\"white\",\"linecolor\":\"white\",\"ticks\":\"\"},\"caxis\":{\"gridcolor\":\"white\",\"linecolor\":\"white\",\"ticks\":\"\"}},\"coloraxis\":{\"colorbar\":{\"outlinewidth\":0,\"ticks\":\"\"}},\"colorscale\":{\"sequential\":[[0.0,\"#0d0887\"],[0.1111111111111111,\"#46039f\"],[0.2222222222222222,\"#7201a8\"],[0.3333333333333333,\"#9c179e\"],[0.4444444444444444,\"#bd3786\"],[0.5555555555555556,\"#d8576b\"],[0.6666666666666666,\"#ed7953\"],[0.7777777777777778,\"#fb9f3a\"],[0.8888888888888888,\"#fdca26\"],[1.0,\"#f0f921\"]],\"sequentialminus\":[[0.0,\"#0d0887\"],[0.1111111111111111,\"#46039f\"],[0.2222222222222222,\"#7201a8\"],[0.3333333333333333,\"#9c179e\"],[0.4444444444444444,\"#bd3786\"],[0.5555555555555556,\"#d8576b\"],[0.6666666666666666,\"#ed7953\"],[0.7777777777777778,\"#fb9f3a\"],[0.8888888888888888,\"#fdca26\"],[1.0,\"#f0f921\"]],\"diverging\":[[0,\"#8e0152\"],[0.1,\"#c51b7d\"],[0.2,\"#de77ae\"],[0.3,\"#f1b6da\"],[0.4,\"#fde0ef\"],[0.5,\"#f7f7f7\"],[0.6,\"#e6f5d0\"],[0.7,\"#b8e186\"],[0.8,\"#7fbc41\"],[0.9,\"#4d9221\"],[1,\"#276419\"]]},\"xaxis\":{\"gridcolor\":\"white\",\"linecolor\":\"white\",\"ticks\":\"\",\"title\":{\"standoff\":15},\"zerolinecolor\":\"white\",\"automargin\":true,\"zerolinewidth\":2},\"yaxis\":{\"gridcolor\":\"white\",\"linecolor\":\"white\",\"ticks\":\"\",\"title\":{\"standoff\":15},\"zerolinecolor\":\"white\",\"automargin\":true,\"zerolinewidth\":2},\"scene\":{\"xaxis\":{\"backgroundcolor\":\"#E5ECF6\",\"gridcolor\":\"white\",\"linecolor\":\"white\",\"showbackground\":true,\"ticks\":\"\",\"zerolinecolor\":\"white\",\"gridwidth\":2},\"yaxis\":{\"backgroundcolor\":\"#E5ECF6\",\"gridcolor\":\"white\",\"linecolor\":\"white\",\"showbackground\":true,\"ticks\":\"\",\"zerolinecolor\":\"white\",\"gridwidth\":2},\"zaxis\":{\"backgroundcolor\":\"#E5ECF6\",\"gridcolor\":\"white\",\"linecolor\":\"white\",\"showbackground\":true,\"ticks\":\"\",\"zerolinecolor\":\"white\",\"gridwidth\":2}},\"shapedefaults\":{\"line\":{\"color\":\"#2a3f5f\"}},\"annotationdefaults\":{\"arrowcolor\":\"#2a3f5f\",\"arrowhead\":0,\"arrowwidth\":1},\"geo\":{\"bgcolor\":\"white\",\"landcolor\":\"#E5ECF6\",\"subunitcolor\":\"white\",\"showland\":true,\"showlakes\":true,\"lakecolor\":\"white\"},\"title\":{\"x\":0.05},\"mapbox\":{\"style\":\"light\"}}},\"yaxis\":{\"autorange\":\"reversed\"},\"height\":450,\"width\":700},                        {\"responsive\": true}                    ).then(function(){\n",
       "                            \n",
       "var gd = document.getElementById('e21ce8ce-d9b2-4147-aea5-6e8d6f864666');\n",
       "var x = new MutationObserver(function (mutations, observer) {{\n",
       "        var display = window.getComputedStyle(gd).display;\n",
       "        if (!display || display === 'none') {{\n",
       "            console.log([gd, 'removed!']);\n",
       "            Plotly.purge(gd);\n",
       "            observer.disconnect();\n",
       "        }}\n",
       "}});\n",
       "\n",
       "// Listen for the removal of the full notebook cells\n",
       "var notebookContainer = gd.closest('#notebook-container');\n",
       "if (notebookContainer) {{\n",
       "    x.observe(notebookContainer, {childList: true});\n",
       "}}\n",
       "\n",
       "// Listen for the clearing of the current output cell\n",
       "var outputEl = gd.closest('.output');\n",
       "if (outputEl) {{\n",
       "    x.observe(outputEl, {childList: true});\n",
       "}}\n",
       "\n",
       "                        })                };                });            </script>        </div>"
      ]
     },
     "metadata": {},
     "output_type": "display_data"
    }
   ],
   "source": [
    "# Matriz de correlações entre as variáveis.\n",
    "corr = atlas_pca.corr()\n",
    "\n",
    "# Gráfico interativo.\n",
    "fig = go.Figure()\n",
    "\n",
    "fig.add_trace(\n",
    "    go.Heatmap(\n",
    "        x = corr.columns,\n",
    "        y = corr.index,\n",
    "        z = np.array(corr),\n",
    "        text=corr.values,\n",
    "        texttemplate='%{text:.4f}',\n",
    "        colorscale='viridis'))\n",
    "\n",
    "fig.update_layout(\n",
    "    height = 450,\n",
    "    width = 700,\n",
    "    yaxis=dict(autorange=\"reversed\"))\n",
    "\n",
    "fig.show()"
   ]
  },
  {
   "cell_type": "code",
   "execution_count": 14,
   "metadata": {},
   "outputs": [
    {
     "name": "stdout",
     "output_type": "stream",
     "text": [
      "Qui² Bartlett: 748.16\n",
      "p-valor: 0.0\n"
     ]
    }
   ],
   "source": [
    "# Teste de Esfericidade de Bartlett.\n",
    "bartlett, p_value = calculate_bartlett_sphericity(atlas_pca)\n",
    "\n",
    "print(f'Qui² Bartlett: {round(bartlett, 2)}')\n",
    "print(f'p-valor: {round(p_value, 4)}')"
   ]
  },
  {
   "cell_type": "code",
   "execution_count": 15,
   "metadata": {},
   "outputs": [
    {
     "data": {
      "text/plain": [
       "array([4.95603069, 1.16433814, 0.99635412, 0.72406663, 0.52930223,\n",
       "       0.39832415, 0.12966871, 0.06506649, 0.03684884])"
      ]
     },
     "execution_count": 15,
     "metadata": {},
     "output_type": "execute_result"
    }
   ],
   "source": [
    "# Definindo a PCA (procedimento inicial com todos os fatores possíveis).\n",
    "fa = FactorAnalyzer(n_factors=9, method='principal', rotation=None).fit(atlas_pca)\n",
    "\n",
    "# Obtendo os eigenvalues (autovalores).\n",
    "autovalores = fa.get_eigenvalues()[0]\n",
    "\n",
    "autovalores"
   ]
  },
  {
   "cell_type": "code",
   "execution_count": 17,
   "metadata": {},
   "outputs": [
    {
     "data": {
      "text/html": [
       "<div>\n",
       "<style scoped>\n",
       "    .dataframe tbody tr th:only-of-type {\n",
       "        vertical-align: middle;\n",
       "    }\n",
       "\n",
       "    .dataframe tbody tr th {\n",
       "        vertical-align: top;\n",
       "    }\n",
       "\n",
       "    .dataframe thead th {\n",
       "        text-align: right;\n",
       "    }\n",
       "</style>\n",
       "<table border=\"1\" class=\"dataframe\">\n",
       "  <thead>\n",
       "    <tr style=\"text-align: right;\">\n",
       "      <th></th>\n",
       "      <th>Autovalor</th>\n",
       "      <th>Variância</th>\n",
       "      <th>Variância Acumulada</th>\n",
       "    </tr>\n",
       "  </thead>\n",
       "  <tbody>\n",
       "    <tr>\n",
       "      <th>Fator 1</th>\n",
       "      <td>4.956031</td>\n",
       "      <td>0.550670</td>\n",
       "      <td>0.550670</td>\n",
       "    </tr>\n",
       "    <tr>\n",
       "      <th>Fator 2</th>\n",
       "      <td>1.164338</td>\n",
       "      <td>0.129371</td>\n",
       "      <td>0.680041</td>\n",
       "    </tr>\n",
       "  </tbody>\n",
       "</table>\n",
       "</div>"
      ],
      "text/plain": [
       "         Autovalor  Variância  Variância Acumulada\n",
       "Fator 1   4.956031   0.550670             0.550670\n",
       "Fator 2   1.164338   0.129371             0.680041"
      ]
     },
     "execution_count": 17,
     "metadata": {},
     "output_type": "execute_result"
    }
   ],
   "source": [
    "# Parametrizando a PCA para os fatores derivados de autovalores > 1.\n",
    "fa = FactorAnalyzer(n_factors=2, method='principal', rotation=None).fit(atlas_pca)\n",
    "\n",
    "# Eigenvalues, variâncias e variâncias acumuladas.\n",
    "autovalores_fatores = fa.get_factor_variance()\n",
    "\n",
    "tabela_eigen = pd.DataFrame(autovalores_fatores)\n",
    "tabela_eigen.columns = [f\"Fator {i+1}\" for i, v in enumerate(tabela_eigen.columns)]\n",
    "tabela_eigen.index = ['Autovalor','Variância', 'Variância Acumulada']\n",
    "tabela_eigen = tabela_eigen.T\n",
    "\n",
    "tabela_eigen"
   ]
  },
  {
   "cell_type": "code",
   "execution_count": 20,
   "metadata": {},
   "outputs": [
    {
     "data": {
      "image/png": "[encoded data removed]",
      "text/plain": [
       "<Figure size 1000x400 with 1 Axes>"
      ]
     },
     "metadata": {},
     "output_type": "display_data"
    }
   ],
   "source": [
    "# Gráfico da variância acumulada dos componentes principais.\n",
    "\n",
    "plt.figure(figsize=(10,4))\n",
    "ax = sns.barplot(x=tabela_eigen.index, y=tabela_eigen['Variância'], data=tabela_eigen)\n",
    "ax.bar_label(ax.containers[0])\n",
    "plt.title(\"Fatores Extraidos\", fontsize=10)\n",
    "plt.xlabel(f\"{tabela_eigen.shape[0]} fatores que explicam {round(tabela_eigen['Variância'].sum()*100,2)}% da variância\", fontsize=10)\n",
    "plt.ylabel(\"Porcentagem de variância explicada\", fontsize=10)\n",
    "plt.show()"
   ]
  },
  {
   "cell_type": "code",
   "execution_count": 21,
   "metadata": {},
   "outputs": [
    {
     "data": {
      "text/html": [
       "<div>\n",
       "<style scoped>\n",
       "    .dataframe tbody tr th:only-of-type {\n",
       "        vertical-align: middle;\n",
       "    }\n",
       "\n",
       "    .dataframe tbody tr th {\n",
       "        vertical-align: top;\n",
       "    }\n",
       "\n",
       "    .dataframe thead th {\n",
       "        text-align: right;\n",
       "    }\n",
       "</style>\n",
       "<table border=\"1\" class=\"dataframe\">\n",
       "  <thead>\n",
       "    <tr style=\"text-align: right;\">\n",
       "      <th></th>\n",
       "      <th>Fator 1</th>\n",
       "      <th>Fator 2</th>\n",
       "    </tr>\n",
       "  </thead>\n",
       "  <tbody>\n",
       "    <tr>\n",
       "      <th>renda</th>\n",
       "      <td>0.832127</td>\n",
       "      <td>0.368971</td>\n",
       "    </tr>\n",
       "    <tr>\n",
       "      <th>quota</th>\n",
       "      <td>0.900606</td>\n",
       "      <td>0.226453</td>\n",
       "    </tr>\n",
       "    <tr>\n",
       "      <th>escolaridade</th>\n",
       "      <td>0.966543</td>\n",
       "      <td>-0.024594</td>\n",
       "    </tr>\n",
       "    <tr>\n",
       "      <th>idade</th>\n",
       "      <td>0.960135</td>\n",
       "      <td>-0.065447</td>\n",
       "    </tr>\n",
       "    <tr>\n",
       "      <th>mortalidade</th>\n",
       "      <td>-0.655699</td>\n",
       "      <td>-0.176634</td>\n",
       "    </tr>\n",
       "    <tr>\n",
       "      <th>txcresc</th>\n",
       "      <td>-0.696781</td>\n",
       "      <td>0.337446</td>\n",
       "    </tr>\n",
       "    <tr>\n",
       "      <th>causasext</th>\n",
       "      <td>-0.666578</td>\n",
       "      <td>-0.043910</td>\n",
       "    </tr>\n",
       "    <tr>\n",
       "      <th>favel</th>\n",
       "      <td>-0.457185</td>\n",
       "      <td>0.442840</td>\n",
       "    </tr>\n",
       "    <tr>\n",
       "      <th>denspop</th>\n",
       "      <td>0.166281</td>\n",
       "      <td>-0.793048</td>\n",
       "    </tr>\n",
       "  </tbody>\n",
       "</table>\n",
       "</div>"
      ],
      "text/plain": [
       "               Fator 1   Fator 2\n",
       "renda         0.832127  0.368971\n",
       "quota         0.900606  0.226453\n",
       "escolaridade  0.966543 -0.024594\n",
       "idade         0.960135 -0.065447\n",
       "mortalidade  -0.655699 -0.176634\n",
       "txcresc      -0.696781  0.337446\n",
       "causasext    -0.666578 -0.043910\n",
       "favel        -0.457185  0.442840\n",
       "denspop       0.166281 -0.793048"
      ]
     },
     "execution_count": 21,
     "metadata": {},
     "output_type": "execute_result"
    }
   ],
   "source": [
    "#%% Determinando as cargas fatoriais.\n",
    "cargas_fatoriais = fa.loadings_\n",
    "\n",
    "tabela_cargas = pd.DataFrame(cargas_fatoriais)\n",
    "tabela_cargas.columns = [f\"Fator {i+1}\" for i, v in enumerate(tabela_cargas.columns)]\n",
    "tabela_cargas.index = atlas_pca.columns\n",
    "\n",
    "tabela_cargas"
   ]
  },
  {
   "cell_type": "code",
   "execution_count": 24,
   "metadata": {},
   "outputs": [
    {
     "data": {
      "image/png": "[encoded data removed]",
      "text/plain": [
       "<Figure size 1000x600 with 1 Axes>"
      ]
     },
     "metadata": {},
     "output_type": "display_data"
    }
   ],
   "source": [
    "# Gráfico das cargas fatoriais (loading plot).\n",
    "\n",
    "plt.figure(figsize=(10,6))\n",
    "tabela_cargas_chart = tabela_cargas.reset_index()\n",
    "plt.scatter(tabela_cargas_chart['Fator 1'], tabela_cargas_chart['Fator 2'], s=50, color='red')\n",
    "\n",
    "def label_point(x, y, val, ax):\n",
    "    a = pd.concat({'x': x, 'y': y, 'val': val}, axis=1)\n",
    "    for i, point in a.iterrows():\n",
    "        ax.text(point['x'] + 0.05, point['y'], point['val'])\n",
    "\n",
    "label_point(x = tabela_cargas_chart['Fator 1'],\n",
    "            y = tabela_cargas_chart['Fator 2'],\n",
    "            val = tabela_cargas_chart['index'],\n",
    "            ax = plt.gca()) \n",
    "\n",
    "plt.axhline(y=0, color='grey', ls='--')\n",
    "plt.axvline(x=0, color='grey', ls='--')\n",
    "plt.ylim([-1.1,1.1])\n",
    "plt.xlim([-1.1,1.1])\n",
    "plt.title(\"Loading Plot\", fontsize=10)\n",
    "plt.xlabel(f\"Fator 1: {round(tabela_eigen.iloc[0]['Variância']*100,2)}% de variância explicada\", fontsize=10)\n",
    "plt.ylabel(f\"Fator 2: {round(tabela_eigen.iloc[1]['Variância']*100,2)}% de variância explicada\", fontsize=10)\n",
    "plt.show()"
   ]
  },
  {
   "cell_type": "code",
   "execution_count": 25,
   "metadata": {},
   "outputs": [
    {
     "data": {
      "text/html": [
       "<div>\n",
       "<style scoped>\n",
       "    .dataframe tbody tr th:only-of-type {\n",
       "        vertical-align: middle;\n",
       "    }\n",
       "\n",
       "    .dataframe tbody tr th {\n",
       "        vertical-align: top;\n",
       "    }\n",
       "\n",
       "    .dataframe thead th {\n",
       "        text-align: right;\n",
       "    }\n",
       "</style>\n",
       "<table border=\"1\" class=\"dataframe\">\n",
       "  <thead>\n",
       "    <tr style=\"text-align: right;\">\n",
       "      <th></th>\n",
       "      <th>Comunalidades</th>\n",
       "    </tr>\n",
       "  </thead>\n",
       "  <tbody>\n",
       "    <tr>\n",
       "      <th>renda</th>\n",
       "      <td>0.828575</td>\n",
       "    </tr>\n",
       "    <tr>\n",
       "      <th>quota</th>\n",
       "      <td>0.862372</td>\n",
       "    </tr>\n",
       "    <tr>\n",
       "      <th>escolaridade</th>\n",
       "      <td>0.934811</td>\n",
       "    </tr>\n",
       "    <tr>\n",
       "      <th>idade</th>\n",
       "      <td>0.926143</td>\n",
       "    </tr>\n",
       "    <tr>\n",
       "      <th>mortalidade</th>\n",
       "      <td>0.461141</td>\n",
       "    </tr>\n",
       "    <tr>\n",
       "      <th>txcresc</th>\n",
       "      <td>0.599374</td>\n",
       "    </tr>\n",
       "    <tr>\n",
       "      <th>causasext</th>\n",
       "      <td>0.446254</td>\n",
       "    </tr>\n",
       "    <tr>\n",
       "      <th>favel</th>\n",
       "      <td>0.405126</td>\n",
       "    </tr>\n",
       "    <tr>\n",
       "      <th>denspop</th>\n",
       "      <td>0.656574</td>\n",
       "    </tr>\n",
       "  </tbody>\n",
       "</table>\n",
       "</div>"
      ],
      "text/plain": [
       "              Comunalidades\n",
       "renda              0.828575\n",
       "quota              0.862372\n",
       "escolaridade       0.934811\n",
       "idade              0.926143\n",
       "mortalidade        0.461141\n",
       "txcresc            0.599374\n",
       "causasext          0.446254\n",
       "favel              0.405126\n",
       "denspop            0.656574"
      ]
     },
     "execution_count": 25,
     "metadata": {},
     "output_type": "execute_result"
    }
   ],
   "source": [
    "# Determinando as comunalidades.\n",
    "comunalidades = fa.get_communalities()\n",
    "\n",
    "tabela_comunalidades = pd.DataFrame(comunalidades)\n",
    "tabela_comunalidades.columns = ['Comunalidades']\n",
    "tabela_comunalidades.index = atlas_pca.columns\n",
    "\n",
    "tabela_comunalidades"
   ]
  },
  {
   "cell_type": "code",
   "execution_count": 26,
   "metadata": {},
   "outputs": [
    {
     "data": {
      "text/html": [
       "<div>\n",
       "<style scoped>\n",
       "    .dataframe tbody tr th:only-of-type {\n",
       "        vertical-align: middle;\n",
       "    }\n",
       "\n",
       "    .dataframe tbody tr th {\n",
       "        vertical-align: top;\n",
       "    }\n",
       "\n",
       "    .dataframe thead th {\n",
       "        text-align: right;\n",
       "    }\n",
       "</style>\n",
       "<table border=\"1\" class=\"dataframe\">\n",
       "  <thead>\n",
       "    <tr style=\"text-align: right;\">\n",
       "      <th></th>\n",
       "      <th>cód_ibge</th>\n",
       "      <th>distritos</th>\n",
       "      <th>renda</th>\n",
       "      <th>quota</th>\n",
       "      <th>escolaridade</th>\n",
       "      <th>idade</th>\n",
       "      <th>mortalidade</th>\n",
       "      <th>txcresc</th>\n",
       "      <th>causasext</th>\n",
       "      <th>favel</th>\n",
       "      <th>denspop</th>\n",
       "      <th>Fator 1</th>\n",
       "      <th>Fator 2</th>\n",
       "    </tr>\n",
       "  </thead>\n",
       "  <tbody>\n",
       "    <tr>\n",
       "      <th>0</th>\n",
       "      <td>1</td>\n",
       "      <td>Água Rasa</td>\n",
       "      <td>1961</td>\n",
       "      <td>34.619999</td>\n",
       "      <td>7.6</td>\n",
       "      <td>32</td>\n",
       "      <td>13.86</td>\n",
       "      <td>-1.840000</td>\n",
       "      <td>52.980000</td>\n",
       "      <td>0.00</td>\n",
       "      <td>125.610001</td>\n",
       "      <td>0.682371</td>\n",
       "      <td>-0.705531</td>\n",
       "    </tr>\n",
       "    <tr>\n",
       "      <th>1</th>\n",
       "      <td>2</td>\n",
       "      <td>Alto de Pinheiros</td>\n",
       "      <td>4180</td>\n",
       "      <td>75.959999</td>\n",
       "      <td>8.4</td>\n",
       "      <td>33</td>\n",
       "      <td>8.68</td>\n",
       "      <td>-2.520000</td>\n",
       "      <td>38.570000</td>\n",
       "      <td>0.69</td>\n",
       "      <td>57.560001</td>\n",
       "      <td>1.790304</td>\n",
       "      <td>1.441565</td>\n",
       "    </tr>\n",
       "    <tr>\n",
       "      <th>2</th>\n",
       "      <td>3</td>\n",
       "      <td>Anhanguera</td>\n",
       "      <td>1093</td>\n",
       "      <td>4.500000</td>\n",
       "      <td>5.8</td>\n",
       "      <td>23</td>\n",
       "      <td>15.36</td>\n",
       "      <td>18.120001</td>\n",
       "      <td>22.680000</td>\n",
       "      <td>0.00</td>\n",
       "      <td>8.570000</td>\n",
       "      <td>-1.204379</td>\n",
       "      <td>2.183685</td>\n",
       "    </tr>\n",
       "    <tr>\n",
       "      <th>3</th>\n",
       "      <td>4</td>\n",
       "      <td>Aricanduva</td>\n",
       "      <td>1311</td>\n",
       "      <td>21.020000</td>\n",
       "      <td>6.8</td>\n",
       "      <td>27</td>\n",
       "      <td>18.43</td>\n",
       "      <td>-1.070000</td>\n",
       "      <td>76.220001</td>\n",
       "      <td>5.38</td>\n",
       "      <td>138.539993</td>\n",
       "      <td>-0.257928</td>\n",
       "      <td>-0.983935</td>\n",
       "    </tr>\n",
       "    <tr>\n",
       "      <th>4</th>\n",
       "      <td>5</td>\n",
       "      <td>Artur Alvim</td>\n",
       "      <td>1248</td>\n",
       "      <td>15.910000</td>\n",
       "      <td>7.0</td>\n",
       "      <td>27</td>\n",
       "      <td>19.73</td>\n",
       "      <td>-1.400000</td>\n",
       "      <td>67.250000</td>\n",
       "      <td>4.11</td>\n",
       "      <td>167.399994</td>\n",
       "      <td>-0.205284</td>\n",
       "      <td>-1.564607</td>\n",
       "    </tr>\n",
       "  </tbody>\n",
       "</table>\n",
       "</div>"
      ],
      "text/plain": [
       "   cód_ibge          distritos  renda      quota  escolaridade  idade  \\\n",
       "0         1          Água Rasa   1961  34.619999           7.6     32   \n",
       "1         2  Alto de Pinheiros   4180  75.959999           8.4     33   \n",
       "2         3         Anhanguera   1093   4.500000           5.8     23   \n",
       "3         4         Aricanduva   1311  21.020000           6.8     27   \n",
       "4         5        Artur Alvim   1248  15.910000           7.0     27   \n",
       "\n",
       "   mortalidade    txcresc  causasext  favel     denspop   Fator 1   Fator 2  \n",
       "0        13.86  -1.840000  52.980000   0.00  125.610001  0.682371 -0.705531  \n",
       "1         8.68  -2.520000  38.570000   0.69   57.560001  1.790304  1.441565  \n",
       "2        15.36  18.120001  22.680000   0.00    8.570000 -1.204379  2.183685  \n",
       "3        18.43  -1.070000  76.220001   5.38  138.539993 -0.257928 -0.983935  \n",
       "4        19.73  -1.400000  67.250000   4.11  167.399994 -0.205284 -1.564607  "
      ]
     },
     "execution_count": 26,
     "metadata": {},
     "output_type": "execute_result"
    }
   ],
   "source": [
    "# Extração dos fatores para as observações do banco de dados.\n",
    "fatores = pd.DataFrame(fa.transform(atlas_pca))\n",
    "fatores.columns =  [f\"Fator {i+1}\" for i, v in enumerate(fatores.columns)]\n",
    "\n",
    "# Adicionando os fatores ao banco de dados.\n",
    "atlas = pd.concat([atlas.reset_index(drop=True), fatores], axis=1)\n",
    "atlas.head()"
   ]
  },
  {
   "cell_type": "code",
   "execution_count": 27,
   "metadata": {},
   "outputs": [
    {
     "data": {
      "text/html": [
       "<div>\n",
       "<style scoped>\n",
       "    .dataframe tbody tr th:only-of-type {\n",
       "        vertical-align: middle;\n",
       "    }\n",
       "\n",
       "    .dataframe tbody tr th {\n",
       "        vertical-align: top;\n",
       "    }\n",
       "\n",
       "    .dataframe thead th {\n",
       "        text-align: right;\n",
       "    }\n",
       "</style>\n",
       "<table border=\"1\" class=\"dataframe\">\n",
       "  <thead>\n",
       "    <tr style=\"text-align: right;\">\n",
       "      <th></th>\n",
       "      <th>Fator 1</th>\n",
       "      <th>Fator 2</th>\n",
       "    </tr>\n",
       "  </thead>\n",
       "  <tbody>\n",
       "    <tr>\n",
       "      <th>renda</th>\n",
       "      <td>0.167902</td>\n",
       "      <td>0.316893</td>\n",
       "    </tr>\n",
       "    <tr>\n",
       "      <th>quota</th>\n",
       "      <td>0.181719</td>\n",
       "      <td>0.194491</td>\n",
       "    </tr>\n",
       "    <tr>\n",
       "      <th>escolaridade</th>\n",
       "      <td>0.195024</td>\n",
       "      <td>-0.021122</td>\n",
       "    </tr>\n",
       "    <tr>\n",
       "      <th>idade</th>\n",
       "      <td>0.193731</td>\n",
       "      <td>-0.056210</td>\n",
       "    </tr>\n",
       "    <tr>\n",
       "      <th>mortalidade</th>\n",
       "      <td>-0.132303</td>\n",
       "      <td>-0.151703</td>\n",
       "    </tr>\n",
       "    <tr>\n",
       "      <th>txcresc</th>\n",
       "      <td>-0.140593</td>\n",
       "      <td>0.289818</td>\n",
       "    </tr>\n",
       "    <tr>\n",
       "      <th>causasext</th>\n",
       "      <td>-0.134498</td>\n",
       "      <td>-0.037712</td>\n",
       "    </tr>\n",
       "    <tr>\n",
       "      <th>favel</th>\n",
       "      <td>-0.092248</td>\n",
       "      <td>0.380336</td>\n",
       "    </tr>\n",
       "    <tr>\n",
       "      <th>denspop</th>\n",
       "      <td>0.033551</td>\n",
       "      <td>-0.681115</td>\n",
       "    </tr>\n",
       "  </tbody>\n",
       "</table>\n",
       "</div>"
      ],
      "text/plain": [
       "               Fator 1   Fator 2\n",
       "renda         0.167902  0.316893\n",
       "quota         0.181719  0.194491\n",
       "escolaridade  0.195024 -0.021122\n",
       "idade         0.193731 -0.056210\n",
       "mortalidade  -0.132303 -0.151703\n",
       "txcresc      -0.140593  0.289818\n",
       "causasext    -0.134498 -0.037712\n",
       "favel        -0.092248  0.380336\n",
       "denspop       0.033551 -0.681115"
      ]
     },
     "execution_count": 27,
     "metadata": {},
     "output_type": "execute_result"
    }
   ],
   "source": [
    "# Identificando os scores fatoriais.\n",
    "scores = fa.weights_\n",
    "\n",
    "tabela_scores = pd.DataFrame(scores)\n",
    "tabela_scores.columns = [f\"Fator {i+1}\" for i, v in enumerate(tabela_scores.columns)]\n",
    "tabela_scores.index = atlas_pca.columns\n",
    "\n",
    "tabela_scores"
   ]
  },
  {
   "cell_type": "code",
   "execution_count": 28,
   "metadata": {},
   "outputs": [
    {
     "data": {
      "text/html": [
       "<div>\n",
       "<style scoped>\n",
       "    .dataframe tbody tr th:only-of-type {\n",
       "        vertical-align: middle;\n",
       "    }\n",
       "\n",
       "    .dataframe tbody tr th {\n",
       "        vertical-align: top;\n",
       "    }\n",
       "\n",
       "    .dataframe thead th {\n",
       "        text-align: right;\n",
       "    }\n",
       "</style>\n",
       "<table border=\"1\" class=\"dataframe\">\n",
       "  <thead>\n",
       "    <tr style=\"text-align: right;\">\n",
       "      <th></th>\n",
       "      <th>cód_ibge</th>\n",
       "      <th>distritos</th>\n",
       "      <th>Fator 1</th>\n",
       "    </tr>\n",
       "  </thead>\n",
       "  <tbody>\n",
       "    <tr>\n",
       "      <th>0</th>\n",
       "      <td>1</td>\n",
       "      <td>Água Rasa</td>\n",
       "      <td>0.682371</td>\n",
       "    </tr>\n",
       "    <tr>\n",
       "      <th>1</th>\n",
       "      <td>2</td>\n",
       "      <td>Alto de Pinheiros</td>\n",
       "      <td>1.790304</td>\n",
       "    </tr>\n",
       "    <tr>\n",
       "      <th>2</th>\n",
       "      <td>3</td>\n",
       "      <td>Anhanguera</td>\n",
       "      <td>-1.204379</td>\n",
       "    </tr>\n",
       "    <tr>\n",
       "      <th>3</th>\n",
       "      <td>4</td>\n",
       "      <td>Aricanduva</td>\n",
       "      <td>-0.257928</td>\n",
       "    </tr>\n",
       "    <tr>\n",
       "      <th>4</th>\n",
       "      <td>5</td>\n",
       "      <td>Artur Alvim</td>\n",
       "      <td>-0.205284</td>\n",
       "    </tr>\n",
       "  </tbody>\n",
       "</table>\n",
       "</div>"
      ],
      "text/plain": [
       "   cód_ibge          distritos   Fator 1\n",
       "0         1          Água Rasa  0.682371\n",
       "1         2  Alto de Pinheiros  1.790304\n",
       "2         3         Anhanguera -1.204379\n",
       "3         4         Aricanduva -0.257928\n",
       "4         5        Artur Alvim -0.205284"
      ]
     },
     "execution_count": 28,
     "metadata": {},
     "output_type": "execute_result"
    }
   ],
   "source": [
    "# Considere que o primeiro fator seja adequado para o ranking de distritos.\n",
    "dados_mapa = atlas[['cód_ibge', 'distritos', 'Fator 1']].sort_values(by=['cód_ibge'], ascending = True).reset_index(drop=True)\n",
    "dados_mapa.head()\n",
    "\n",
    "# Note que adotamos um critério distinto da \"soma ponderada\"."
   ]
  }
 ],
 "metadata": {
  "kernelspec": {
   "display_name": "Python 3",
   "language": "python",
   "name": "python3"
  },
  "language_info": {
   "codemirror_mode": {
    "name": "ipython",
    "version": 3
   },
   "file_extension": ".py",
   "mimetype": "text/x-python",
   "name": "python",
   "nbconvert_exporter": "python",
   "pygments_lexer": "ipython3",
   "version": "3.10.12"
  }
 },
 "nbformat": 4,
 "nbformat_minor": 2
}
