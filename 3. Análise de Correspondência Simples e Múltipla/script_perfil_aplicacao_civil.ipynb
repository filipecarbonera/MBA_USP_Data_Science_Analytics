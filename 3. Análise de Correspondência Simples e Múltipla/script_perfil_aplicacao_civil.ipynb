{
 "cells": [
  {
   "cell_type": "markdown",
   "metadata": {},
   "source": [
    "# Análise de Correspondência Simples e Múltipla\n",
    "\n",
    "MBA em Data Science e Analytics USP ESALQ\n",
    "\n",
    "Prof. Dr. Wilson Tarantin Junior\n",
    "\n",
    "-*- coding: utf-8 -*-"
   ]
  },
  {
   "cell_type": "code",
   "execution_count": 1,
   "metadata": {},
   "outputs": [],
   "source": [
    "# Instalando os pacotes.\n",
    "\n",
    "# !pip install pandas\n",
    "# !pip install numpy\n",
    "# !pip install scipy\n",
    "# !pip install plotly\n",
    "# !pip install seaborn\n",
    "# !pip install matplotlib\n",
    "# !pip install statsmodels\n",
    "# !pip install prince"
   ]
  },
  {
   "cell_type": "code",
   "execution_count": 2,
   "metadata": {},
   "outputs": [],
   "source": [
    "# Importando os pacotes necessários.\n",
    "\n",
    "import pandas as pd\n",
    "import numpy as np\n",
    "from scipy.stats import chi2_contingency\n",
    "import statsmodels.api as sm\n",
    "import seaborn as sns\n",
    "import matplotlib.pyplot as plt\n",
    "import prince\n",
    "import plotly.io as pio\n",
    "import plotly.graph_objects as go"
   ]
  },
  {
   "cell_type": "code",
   "execution_count": 3,
   "metadata": {},
   "outputs": [
    {
     "data": {
      "text/html": [
       "<div>\n",
       "<style scoped>\n",
       "    .dataframe tbody tr th:only-of-type {\n",
       "        vertical-align: middle;\n",
       "    }\n",
       "\n",
       "    .dataframe tbody tr th {\n",
       "        vertical-align: top;\n",
       "    }\n",
       "\n",
       "    .dataframe thead th {\n",
       "        text-align: right;\n",
       "    }\n",
       "</style>\n",
       "<table border=\"1\" class=\"dataframe\">\n",
       "  <thead>\n",
       "    <tr style=\"text-align: right;\">\n",
       "      <th></th>\n",
       "      <th>estudante</th>\n",
       "      <th>perfil</th>\n",
       "      <th>aplicacao</th>\n",
       "      <th>estado.civil</th>\n",
       "    </tr>\n",
       "  </thead>\n",
       "  <tbody>\n",
       "    <tr>\n",
       "      <th>0</th>\n",
       "      <td>Gabriela</td>\n",
       "      <td>Conservador</td>\n",
       "      <td>Poupanca</td>\n",
       "      <td>Casado</td>\n",
       "    </tr>\n",
       "    <tr>\n",
       "      <th>1</th>\n",
       "      <td>Luiz Felipe</td>\n",
       "      <td>Conservador</td>\n",
       "      <td>Poupanca</td>\n",
       "      <td>Casado</td>\n",
       "    </tr>\n",
       "    <tr>\n",
       "      <th>2</th>\n",
       "      <td>Patrícia</td>\n",
       "      <td>Conservador</td>\n",
       "      <td>Poupanca</td>\n",
       "      <td>Casado</td>\n",
       "    </tr>\n",
       "    <tr>\n",
       "      <th>3</th>\n",
       "      <td>Gustavo</td>\n",
       "      <td>Conservador</td>\n",
       "      <td>Poupanca</td>\n",
       "      <td>Solteiro</td>\n",
       "    </tr>\n",
       "    <tr>\n",
       "      <th>4</th>\n",
       "      <td>Letícia</td>\n",
       "      <td>Conservador</td>\n",
       "      <td>Poupanca</td>\n",
       "      <td>Casado</td>\n",
       "    </tr>\n",
       "  </tbody>\n",
       "</table>\n",
       "</div>"
      ],
      "text/plain": [
       "     estudante       perfil aplicacao estado.civil\n",
       "0     Gabriela  Conservador  Poupanca       Casado\n",
       "1  Luiz Felipe  Conservador  Poupanca       Casado\n",
       "2     Patrícia  Conservador  Poupanca       Casado\n",
       "3      Gustavo  Conservador  Poupanca     Solteiro\n",
       "4      Letícia  Conservador  Poupanca       Casado"
      ]
     },
     "execution_count": 3,
     "metadata": {},
     "output_type": "execute_result"
    }
   ],
   "source": [
    "# Importando o banco de dados.\n",
    "\n",
    "url = 'https://github.com/filipecarbonera/MBA_USP_Data_Science_Analytics/raw/main/An%C3%A1lise%20de%20Correspond%C3%AAncia%20Simples%20e%20M%C3%BAltipla/perfil_aplicacao_civil.xlsx'\n",
    "# Fonte: Fávero e Belfiore (2024, Capítulo 11)\n",
    "\n",
    "perfil_mca = pd.read_excel(url)\n",
    "perfil_mca.head()"
   ]
  },
  {
   "cell_type": "code",
   "execution_count": 4,
   "metadata": {},
   "outputs": [
    {
     "data": {
      "text/html": [
       "<div>\n",
       "<style scoped>\n",
       "    .dataframe tbody tr th:only-of-type {\n",
       "        vertical-align: middle;\n",
       "    }\n",
       "\n",
       "    .dataframe tbody tr th {\n",
       "        vertical-align: top;\n",
       "    }\n",
       "\n",
       "    .dataframe thead th {\n",
       "        text-align: right;\n",
       "    }\n",
       "</style>\n",
       "<table border=\"1\" class=\"dataframe\">\n",
       "  <thead>\n",
       "    <tr style=\"text-align: right;\">\n",
       "      <th></th>\n",
       "      <th>perfil</th>\n",
       "      <th>aplicacao</th>\n",
       "      <th>estado.civil</th>\n",
       "    </tr>\n",
       "  </thead>\n",
       "  <tbody>\n",
       "    <tr>\n",
       "      <th>0</th>\n",
       "      <td>Conservador</td>\n",
       "      <td>Poupanca</td>\n",
       "      <td>Casado</td>\n",
       "    </tr>\n",
       "    <tr>\n",
       "      <th>1</th>\n",
       "      <td>Conservador</td>\n",
       "      <td>Poupanca</td>\n",
       "      <td>Casado</td>\n",
       "    </tr>\n",
       "    <tr>\n",
       "      <th>2</th>\n",
       "      <td>Conservador</td>\n",
       "      <td>Poupanca</td>\n",
       "      <td>Casado</td>\n",
       "    </tr>\n",
       "    <tr>\n",
       "      <th>3</th>\n",
       "      <td>Conservador</td>\n",
       "      <td>Poupanca</td>\n",
       "      <td>Solteiro</td>\n",
       "    </tr>\n",
       "    <tr>\n",
       "      <th>4</th>\n",
       "      <td>Conservador</td>\n",
       "      <td>Poupanca</td>\n",
       "      <td>Casado</td>\n",
       "    </tr>\n",
       "  </tbody>\n",
       "</table>\n",
       "</div>"
      ],
      "text/plain": [
       "        perfil aplicacao estado.civil\n",
       "0  Conservador  Poupanca       Casado\n",
       "1  Conservador  Poupanca       Casado\n",
       "2  Conservador  Poupanca       Casado\n",
       "3  Conservador  Poupanca     Solteiro\n",
       "4  Conservador  Poupanca       Casado"
      ]
     },
     "execution_count": 4,
     "metadata": {},
     "output_type": "execute_result"
    }
   ],
   "source": [
    "# Selecionando apenas as variáveis que farão parte da análise.\n",
    "dados_mca = perfil_mca.drop(columns=['estudante'])\n",
    "dados_mca.head()"
   ]
  },
  {
   "cell_type": "code",
   "execution_count": 5,
   "metadata": {},
   "outputs": [
    {
     "name": "stdout",
     "output_type": "stream",
     "text": [
      "perfil\n",
      "Agressivo      58\n",
      "Moderado       25\n",
      "Conservador    17\n",
      "Name: count, dtype: int64 \n",
      "\n",
      "aplicacao\n",
      "Acoes       45\n",
      "CDB         40\n",
      "Poupanca    15\n",
      "Name: count, dtype: int64 \n",
      "\n",
      "estado.civil\n",
      "Solteiro    57\n",
      "Casado      43\n",
      "Name: count, dtype: int64\n"
     ]
    }
   ],
   "source": [
    "# Informações descritivas sobre as variáveis.\n",
    "print(dados_mca['perfil'].value_counts(),\"\\n\")\n",
    "print(dados_mca['aplicacao'].value_counts(),\"\\n\")\n",
    "print(dados_mca['estado.civil'].value_counts())"
   ]
  },
  {
   "cell_type": "code",
   "execution_count": 6,
   "metadata": {},
   "outputs": [
    {
     "name": "stdout",
     "output_type": "stream",
     "text": [
      "Perfil/Aplicação:\n",
      " aplicacao    Acoes  CDB  Poupanca\n",
      "perfil                           \n",
      "Agressivo       36   20         2\n",
      "Conservador      5    4         8\n",
      "Moderado         4   16         5 \n",
      "\n",
      "Perfil/Estado Civil:\n",
      " estado.civil  Casado  Solteiro\n",
      "perfil                        \n",
      "Agressivo         17        41\n",
      "Conservador       12         5\n",
      "Moderado          14        11 \n",
      "\n",
      "Aplicação/Estado Civil:\n",
      " estado.civil  Casado  Solteiro\n",
      "aplicacao                     \n",
      "Acoes              9        36\n",
      "CDB               24        16\n",
      "Poupanca          10         5\n"
     ]
    }
   ],
   "source": [
    "# Analisando as tabelas de contingência.\n",
    "\n",
    "tabela_mca_1 = pd.crosstab(dados_mca[\"perfil\"], dados_mca[\"aplicacao\"])\n",
    "tabela_mca_2 = pd.crosstab(dados_mca[\"perfil\"], dados_mca[\"estado.civil\"])\n",
    "tabela_mca_3 = pd.crosstab(dados_mca[\"aplicacao\"], dados_mca[\"estado.civil\"])\n",
    "\n",
    "print(\"Perfil/Aplicação:\\n\", tabela_mca_1,\"\\n\")\n",
    "print(\"Perfil/Estado Civil:\\n\", tabela_mca_2,\"\\n\")\n",
    "print(\"Aplicação/Estado Civil:\\n\", tabela_mca_3)"
   ]
  },
  {
   "cell_type": "code",
   "execution_count": 10,
   "metadata": {},
   "outputs": [
    {
     "name": "stdout",
     "output_type": "stream",
     "text": [
      "Associação Perfil x Aplicação:\n",
      "estatística qui²: 31.76\n",
      "p-valor da estatística: 0.0\n",
      "graus de liberdade: 4\n",
      "\n",
      "Associação Perfil x Estado Civil:\n",
      "estatística qui²: 11.44\n",
      "p-valor da estatística: 0.0033\n",
      "graus de liberdade: 2\n",
      "\n",
      "Associação Aplicação x Estado Civil:\n",
      "estatística qui²: 17.86\n",
      "p-valor da estatística: 0.0001\n",
      "graus de liberdade: 2\n"
     ]
    }
   ],
   "source": [
    "# Analisando a significância estatística das associações (teste qui²).\n",
    "\n",
    "tab_1 = chi2_contingency(tabela_mca_1)\n",
    "\n",
    "print(\"Associação Perfil x Aplicação:\")\n",
    "print(f\"estatística qui²: {round(tab_1[0], 2)}\")\n",
    "print(f\"p-valor da estatística: {round(tab_1[1], 4)}\")\n",
    "print(f\"graus de liberdade: {tab_1[2]}\")\n",
    "\n",
    "tab_2 = chi2_contingency(tabela_mca_2)\n",
    "\n",
    "print(\"\\nAssociação Perfil x Estado Civil:\")\n",
    "print(f\"estatística qui²: {round(tab_2[0], 2)}\")\n",
    "print(f\"p-valor da estatística: {round(tab_2[1], 4)}\")\n",
    "print(f\"graus de liberdade: {tab_2[2]}\")\n",
    "\n",
    "tab_3 = chi2_contingency(tabela_mca_3)\n",
    "\n",
    "print(\"\\nAssociação Aplicação x Estado Civil:\")\n",
    "print(f\"estatística qui²: {round(tab_3[0], 2)}\")\n",
    "print(f\"p-valor da estatística: {round(tab_3[1], 4)}\")\n",
    "print(f\"graus de liberdade: {tab_3[2]}\")"
   ]
  },
  {
   "cell_type": "code",
   "execution_count": 12,
   "metadata": {},
   "outputs": [],
   "source": [
    "# Elaborando a MCA.\n",
    "mca = prince.MCA(n_components=2).fit(dados_mca)\n",
    "\n",
    "# Vamos parametrizar a MCA para duas dimensões (eixos X e Y no mapa perceptual).\n",
    "# Note que o input é o próprio banco de dados com as variáveis categóricas."
   ]
  },
  {
   "cell_type": "code",
   "execution_count": 14,
   "metadata": {},
   "outputs": [
    {
     "name": "stdout",
     "output_type": "stream",
     "text": [
      "quantidade total de categorias: 8\n",
      "quantidade de variáveis: 3\n",
      "quantidade de dimensões: 5\n"
     ]
    }
   ],
   "source": [
    "# Quantidade total de dimensões.\n",
    "# Quantidade de dimensões = qtde total de categorias - qtde de variáveis\n",
    "\n",
    "# Quantidade total de categorias.\n",
    "mca.J_\n",
    "\n",
    "# Quantidade de variáveis na análise.\n",
    "mca.K_\n",
    "\n",
    "# Quantidade de dimensões.\n",
    "quant_dim = mca.J_ - mca.K_\n",
    "\n",
    "# Resumo das informações.\n",
    "print(f\"quantidade total de categorias: {mca.J_}\")\n",
    "print(f\"quantidade de variáveis: {mca.K_}\")\n",
    "print(f\"quantidade de dimensões: {quant_dim}\")"
   ]
  },
  {
   "cell_type": "code",
   "execution_count": 17,
   "metadata": {},
   "outputs": [],
   "source": [
    "#  Visualizando as matrizes: binária e Burt.\n",
    "\n",
    "binaria = pd.get_dummies(dados_mca, columns=dados_mca.columns, dtype=float)\n",
    "burt = np.matmul(np.transpose(binaria), binaria)\n",
    "\n",
    "# Nota: esta célula não é requerida para a função, tem fins didáticos!"
   ]
  },
  {
   "cell_type": "code",
   "execution_count": 18,
   "metadata": {},
   "outputs": [
    {
     "data": {
      "text/html": [
       "<div>\n",
       "<style scoped>\n",
       "    .dataframe tbody tr th:only-of-type {\n",
       "        vertical-align: middle;\n",
       "    }\n",
       "\n",
       "    .dataframe tbody tr th {\n",
       "        vertical-align: top;\n",
       "    }\n",
       "\n",
       "    .dataframe thead th {\n",
       "        text-align: right;\n",
       "    }\n",
       "</style>\n",
       "<table border=\"1\" class=\"dataframe\">\n",
       "  <thead>\n",
       "    <tr style=\"text-align: right;\">\n",
       "      <th></th>\n",
       "      <th>eigenvalue</th>\n",
       "      <th>% of variance</th>\n",
       "      <th>% of variance (cumulative)</th>\n",
       "    </tr>\n",
       "    <tr>\n",
       "      <th>component</th>\n",
       "      <th></th>\n",
       "      <th></th>\n",
       "      <th></th>\n",
       "    </tr>\n",
       "  </thead>\n",
       "  <tbody>\n",
       "    <tr>\n",
       "      <th>0</th>\n",
       "      <td>0.602</td>\n",
       "      <td>36.14%</td>\n",
       "      <td>36.14%</td>\n",
       "    </tr>\n",
       "    <tr>\n",
       "      <th>1</th>\n",
       "      <td>0.436</td>\n",
       "      <td>26.16%</td>\n",
       "      <td>62.30%</td>\n",
       "    </tr>\n",
       "  </tbody>\n",
       "</table>\n",
       "</div>"
      ],
      "text/plain": [
       "          eigenvalue % of variance % of variance (cumulative)\n",
       "component                                                    \n",
       "0              0.602        36.14%                     36.14%\n",
       "1              0.436        26.16%                     62.30%"
      ]
     },
     "execution_count": 18,
     "metadata": {},
     "output_type": "execute_result"
    }
   ],
   "source": [
    "# Obtendo os eigenvalues.\n",
    "tabela_autovalores = mca.eigenvalues_summary\n",
    "\n",
    "tabela_autovalores"
   ]
  },
  {
   "cell_type": "code",
   "execution_count": 19,
   "metadata": {},
   "outputs": [
    {
     "data": {
      "text/plain": [
       "1.6666666666666645"
      ]
     },
     "execution_count": 19,
     "metadata": {},
     "output_type": "execute_result"
    }
   ],
   "source": [
    "# Inércia principal total.\n",
    "mca.total_inertia_ # Soma de todos os autovalores (todas as dimensões existentes)."
   ]
  },
  {
   "cell_type": "code",
   "execution_count": 20,
   "metadata": {},
   "outputs": [
    {
     "data": {
      "text/html": [
       "<div>\n",
       "<style scoped>\n",
       "    .dataframe tbody tr th:only-of-type {\n",
       "        vertical-align: middle;\n",
       "    }\n",
       "\n",
       "    .dataframe tbody tr th {\n",
       "        vertical-align: top;\n",
       "    }\n",
       "\n",
       "    .dataframe thead th {\n",
       "        text-align: right;\n",
       "    }\n",
       "</style>\n",
       "<table border=\"1\" class=\"dataframe\">\n",
       "  <thead>\n",
       "    <tr style=\"text-align: right;\">\n",
       "      <th></th>\n",
       "      <th>0</th>\n",
       "      <th>1</th>\n",
       "    </tr>\n",
       "  </thead>\n",
       "  <tbody>\n",
       "    <tr>\n",
       "      <th>perfil_Agressivo</th>\n",
       "      <td>-0.653069</td>\n",
       "      <td>-0.014732</td>\n",
       "    </tr>\n",
       "    <tr>\n",
       "      <th>perfil_Conservador</th>\n",
       "      <td>1.129970</td>\n",
       "      <td>1.483614</td>\n",
       "    </tr>\n",
       "    <tr>\n",
       "      <th>perfil_Moderado</th>\n",
       "      <td>0.746741</td>\n",
       "      <td>-0.974679</td>\n",
       "    </tr>\n",
       "    <tr>\n",
       "      <th>aplicacao_Acoes</th>\n",
       "      <td>-0.831258</td>\n",
       "      <td>0.387515</td>\n",
       "    </tr>\n",
       "    <tr>\n",
       "      <th>aplicacao_CDB</th>\n",
       "      <td>0.417184</td>\n",
       "      <td>-0.935143</td>\n",
       "    </tr>\n",
       "    <tr>\n",
       "      <th>aplicacao_Poupanca</th>\n",
       "      <td>1.381285</td>\n",
       "      <td>1.331169</td>\n",
       "    </tr>\n",
       "    <tr>\n",
       "      <th>estado.civil_Casado</th>\n",
       "      <td>0.843172</td>\n",
       "      <td>-0.131145</td>\n",
       "    </tr>\n",
       "    <tr>\n",
       "      <th>estado.civil_Solteiro</th>\n",
       "      <td>-0.636077</td>\n",
       "      <td>0.098934</td>\n",
       "    </tr>\n",
       "  </tbody>\n",
       "</table>\n",
       "</div>"
      ],
      "text/plain": [
       "                              0         1\n",
       "perfil_Agressivo      -0.653069 -0.014732\n",
       "perfil_Conservador     1.129970  1.483614\n",
       "perfil_Moderado        0.746741 -0.974679\n",
       "aplicacao_Acoes       -0.831258  0.387515\n",
       "aplicacao_CDB          0.417184 -0.935143\n",
       "aplicacao_Poupanca     1.381285  1.331169\n",
       "estado.civil_Casado    0.843172 -0.131145\n",
       "estado.civil_Solteiro -0.636077  0.098934"
      ]
     },
     "execution_count": 20,
     "metadata": {},
     "output_type": "execute_result"
    }
   ],
   "source": [
    "# Obtendo as coordenadas principais das categorias das variáveis.\n",
    "coord_burt = mca.column_coordinates(dados_mca)\n",
    "coord_burt"
   ]
  },
  {
   "cell_type": "code",
   "execution_count": 21,
   "metadata": {},
   "outputs": [
    {
     "data": {
      "text/html": [
       "<div>\n",
       "<style scoped>\n",
       "    .dataframe tbody tr th:only-of-type {\n",
       "        vertical-align: middle;\n",
       "    }\n",
       "\n",
       "    .dataframe tbody tr th {\n",
       "        vertical-align: top;\n",
       "    }\n",
       "\n",
       "    .dataframe thead th {\n",
       "        text-align: right;\n",
       "    }\n",
       "</style>\n",
       "<table border=\"1\" class=\"dataframe\">\n",
       "  <thead>\n",
       "    <tr style=\"text-align: right;\">\n",
       "      <th></th>\n",
       "      <th>0</th>\n",
       "      <th>1</th>\n",
       "    </tr>\n",
       "  </thead>\n",
       "  <tbody>\n",
       "    <tr>\n",
       "      <th>perfil_Agressivo</th>\n",
       "      <td>-0.841494</td>\n",
       "      <td>-0.022312</td>\n",
       "    </tr>\n",
       "    <tr>\n",
       "      <th>perfil_Conservador</th>\n",
       "      <td>1.455992</td>\n",
       "      <td>2.246900</td>\n",
       "    </tr>\n",
       "    <tr>\n",
       "      <th>perfil_Moderado</th>\n",
       "      <td>0.962193</td>\n",
       "      <td>-1.476129</td>\n",
       "    </tr>\n",
       "    <tr>\n",
       "      <th>aplicacao_Acoes</th>\n",
       "      <td>-1.071095</td>\n",
       "      <td>0.586883</td>\n",
       "    </tr>\n",
       "    <tr>\n",
       "      <th>aplicacao_CDB</th>\n",
       "      <td>0.537550</td>\n",
       "      <td>-1.416253</td>\n",
       "    </tr>\n",
       "    <tr>\n",
       "      <th>aplicacao_Poupanca</th>\n",
       "      <td>1.779816</td>\n",
       "      <td>2.016026</td>\n",
       "    </tr>\n",
       "    <tr>\n",
       "      <th>estado.civil_Casado</th>\n",
       "      <td>1.086446</td>\n",
       "      <td>-0.198617</td>\n",
       "    </tr>\n",
       "    <tr>\n",
       "      <th>estado.civil_Solteiro</th>\n",
       "      <td>-0.819599</td>\n",
       "      <td>0.149834</td>\n",
       "    </tr>\n",
       "  </tbody>\n",
       "</table>\n",
       "</div>"
      ],
      "text/plain": [
       "                              0         1\n",
       "perfil_Agressivo      -0.841494 -0.022312\n",
       "perfil_Conservador     1.455992  2.246900\n",
       "perfil_Moderado        0.962193 -1.476129\n",
       "aplicacao_Acoes       -1.071095  0.586883\n",
       "aplicacao_CDB          0.537550 -1.416253\n",
       "aplicacao_Poupanca     1.779816  2.016026\n",
       "estado.civil_Casado    1.086446 -0.198617\n",
       "estado.civil_Solteiro -0.819599  0.149834"
      ]
     },
     "execution_count": 21,
     "metadata": {},
     "output_type": "execute_result"
    }
   ],
   "source": [
    "# Obtendo as coordenadas-padrão das categorias das variáveis.\n",
    "coord_padrao = mca.column_coordinates(dados_mca)/np.sqrt(mca.eigenvalues_)\n",
    "\n",
    "coord_padrao"
   ]
  },
  {
   "cell_type": "code",
   "execution_count": 23,
   "metadata": {},
   "outputs": [
    {
     "data": {
      "text/html": [
       "<div>\n",
       "<style scoped>\n",
       "    .dataframe tbody tr th:only-of-type {\n",
       "        vertical-align: middle;\n",
       "    }\n",
       "\n",
       "    .dataframe tbody tr th {\n",
       "        vertical-align: top;\n",
       "    }\n",
       "\n",
       "    .dataframe thead th {\n",
       "        text-align: right;\n",
       "    }\n",
       "</style>\n",
       "<table border=\"1\" class=\"dataframe\">\n",
       "  <thead>\n",
       "    <tr style=\"text-align: right;\">\n",
       "      <th></th>\n",
       "      <th>0</th>\n",
       "      <th>1</th>\n",
       "    </tr>\n",
       "  </thead>\n",
       "  <tbody>\n",
       "    <tr>\n",
       "      <th>0</th>\n",
       "      <td>1.440751</td>\n",
       "      <td>1.35477</td>\n",
       "    </tr>\n",
       "    <tr>\n",
       "      <th>1</th>\n",
       "      <td>1.440751</td>\n",
       "      <td>1.35477</td>\n",
       "    </tr>\n",
       "    <tr>\n",
       "      <th>2</th>\n",
       "      <td>1.440751</td>\n",
       "      <td>1.35477</td>\n",
       "    </tr>\n",
       "    <tr>\n",
       "      <th>3</th>\n",
       "      <td>0.805403</td>\n",
       "      <td>1.47092</td>\n",
       "    </tr>\n",
       "    <tr>\n",
       "      <th>4</th>\n",
       "      <td>1.440751</td>\n",
       "      <td>1.35477</td>\n",
       "    </tr>\n",
       "  </tbody>\n",
       "</table>\n",
       "</div>"
      ],
      "text/plain": [
       "          0        1\n",
       "0  1.440751  1.35477\n",
       "1  1.440751  1.35477\n",
       "2  1.440751  1.35477\n",
       "3  0.805403  1.47092\n",
       "4  1.440751  1.35477"
      ]
     },
     "execution_count": 23,
     "metadata": {},
     "output_type": "execute_result"
    }
   ],
   "source": [
    "# Obtendo as coordenadas das observações do banco de dados.\n",
    "coord_obs = mca.row_coordinates(dados_mca) # Na função, as coordenadas das observações vêm das coordenadas-padrão.\n",
    "\n",
    "coord_obs.head()"
   ]
  },
  {
   "cell_type": "code",
   "execution_count": 29,
   "metadata": {},
   "outputs": [
    {
     "data": {
      "image/png": "[encoded data removed]",
      "text/plain": [
       "<Figure size 640x480 with 1 Axes>"
      ]
     },
     "metadata": {},
     "output_type": "display_data"
    }
   ],
   "source": [
    "# Plotando o mapa perceptual (coordenadas-padrão).\n",
    "\n",
    "chart = coord_padrao.reset_index()\n",
    "\n",
    "var_chart = pd.Series(chart['index'].str.split('_', expand=True).iloc[:,0])\n",
    "# Nota: para a função acima ser executada adequadamente, não deixar underline no nome original da variável no dataset.\n",
    "\n",
    "chart_df_mca = pd.DataFrame({'categoria': chart['index'],\n",
    "                             'obs_x': chart[0],\n",
    "                             'obs_y': chart[1],\n",
    "                             'variavel': var_chart})\n",
    "\n",
    "def label_point(x, y, val, ax):\n",
    "    a = pd.concat({'x': x, 'y': y, 'val': val}, axis=1)\n",
    "    for i, point in a.iterrows():\n",
    "        ax.text(point['x'] + 0.03, point['y'] - 0.02, point['val'], fontsize=10)\n",
    "\n",
    "label_point(x = chart_df_mca['obs_x'],\n",
    "            y = chart_df_mca['obs_y'],\n",
    "            val = chart_df_mca['categoria'],\n",
    "            ax = plt.gca())\n",
    "\n",
    "sns.scatterplot(data=chart_df_mca, x='obs_x', y='obs_y', hue='variavel', s=50)\n",
    "sns.despine(top=True, right=True, left=False, bottom=False)\n",
    "plt.axhline(y=0, color='lightgrey', ls='--', linewidth=0.8)\n",
    "plt.axvline(x=0, color='lightgrey', ls='--', linewidth=0.8)\n",
    "plt.tick_params(size=2, labelsize=10)\n",
    "plt.legend(bbox_to_anchor=(0,0), fancybox=True, shadow=True, fontsize = 10)\n",
    "plt.title(\"Mapa Perceptual - MCA\", fontsize=12)\n",
    "plt.xlabel(f\"Dim. 1: {tabela_autovalores.iloc[0,1]} da inércia\", fontsize=10)\n",
    "plt.ylabel(f\"Dim. 2: {tabela_autovalores.iloc[1,1]} da inércia\", fontsize=10)\n",
    "plt.show()"
   ]
  }
 ],
 "metadata": {
  "kernelspec": {
   "display_name": "Python 3",
   "language": "python",
   "name": "python3"
  },
  "language_info": {
   "codemirror_mode": {
    "name": "ipython",
    "version": 3
   },
   "file_extension": ".py",
   "mimetype": "text/x-python",
   "name": "python",
   "nbconvert_exporter": "python",
   "pygments_lexer": "ipython3",
   "version": "3.10.12"
  }
 },
 "nbformat": 4,
 "nbformat_minor": 2
}
